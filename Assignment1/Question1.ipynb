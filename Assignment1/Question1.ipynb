{
 "cells": [
  {
   "cell_type": "markdown",
   "metadata": {},
   "source": [
    "QUESTION 1 \n",
    "• Under package Gutenberg, see what files are in it.\n",
    "• Find out how many words and how many unique words in file 'austen- persuasion.txt'.\n",
    "• Calculate the frequency for each words and show the top 10 most frequent words and their frequency.\n",
    "Try NOT to use FreqDist module.\n",
    "• Keep the punctuation and stop words in this question."
   ]
  },
  {
   "cell_type": "code",
   "execution_count": 29,
   "metadata": {
    "collapsed": false
   },
   "outputs": [
    {
     "data": {
      "text/plain": [
       "['austen-emma.txt',\n",
       " 'austen-persuasion.txt',\n",
       " 'austen-sense.txt',\n",
       " 'bible-kjv.txt',\n",
       " 'blake-poems.txt',\n",
       " 'bryant-stories.txt',\n",
       " 'burgess-busterbrown.txt',\n",
       " 'carroll-alice.txt',\n",
       " 'chesterton-ball.txt',\n",
       " 'chesterton-brown.txt',\n",
       " 'chesterton-thursday.txt',\n",
       " 'edgeworth-parents.txt',\n",
       " 'melville-moby_dick.txt',\n",
       " 'milton-paradise.txt',\n",
       " 'shakespeare-caesar.txt',\n",
       " 'shakespeare-hamlet.txt',\n",
       " 'shakespeare-macbeth.txt',\n",
       " 'whitman-leaves.txt']"
      ]
     },
     "execution_count": 29,
     "metadata": {},
     "output_type": "execute_result"
    }
   ],
   "source": [
    "import nltk\n",
    "nltk.corpus.gutenberg.fileids()"
   ]
  },
  {
   "cell_type": "code",
   "execution_count": 30,
   "metadata": {
    "collapsed": false
   },
   "outputs": [
    {
     "data": {
      "text/plain": [
       "98171"
      ]
     },
     "execution_count": 30,
     "metadata": {},
     "output_type": "execute_result"
    }
   ],
   "source": [
    "#Find out how many words in file 'austen- persuasion.txt'\n",
    "persuasion = nltk.corpus.gutenberg.words('austen-persuasion.txt')\n",
    "len(persuasion)"
   ]
  },
  {
   "cell_type": "code",
   "execution_count": 33,
   "metadata": {
    "collapsed": false
   },
   "outputs": [
    {
     "name": "stdout",
     "output_type": "stream",
     "text": [
      "There are 5835 unique words in file 'austen- persuasion.txt'\n"
     ]
    }
   ],
   "source": [
    "#How many unique words in file 'austen- persuasion.txt'\n",
    "persuasion = [word.lower() for word in persuasion]\n",
    "dicForWords = {}\n",
    "for word in persuasion: \n",
    "    if word in dicForWords.keys():\n",
    "        dicForWords[word] += 1\n",
    "    else:\n",
    "        dicForWords[word] = 1\n",
    "print(\"There are\", len(dicForWords), \"unique words in file 'austen- persuasion.txt'\")"
   ]
  },
  {
   "cell_type": "code",
   "execution_count": 34,
   "metadata": {
    "collapsed": false
   },
   "outputs": [],
   "source": [
    "#Sort dic by value\n",
    "dicForWords = sorted(dicForWords.items(), key = lambda x : x[1] ,reverse = True)"
   ]
  },
  {
   "cell_type": "code",
   "execution_count": 35,
   "metadata": {
    "collapsed": false
   },
   "outputs": [
    {
     "name": "stdout",
     "output_type": "stream",
     "text": [
      "Top 10 used words and frequeny are:\n",
      "(',', 6750)\n",
      "('the', 3329)\n",
      "('to', 2808)\n",
      "('and', 2801)\n",
      "('.', 2741)\n",
      "('of', 2570)\n",
      "('a', 1595)\n",
      "('in', 1389)\n",
      "('was', 1337)\n",
      "(';', 1290)\n"
     ]
    }
   ],
   "source": [
    "#Top10 used words and frequency\n",
    "print(\"Top 10 used words and frequeny are:\")\n",
    "for i in range(10):\n",
    "    print(dicForWords[i]) "
   ]
  }
 ],
 "metadata": {
  "kernelspec": {
   "display_name": "Python 3",
   "language": "python",
   "name": "python3"
  },
  "language_info": {
   "codemirror_mode": {
    "name": "ipython",
    "version": 3
   },
   "file_extension": ".py",
   "mimetype": "text/x-python",
   "name": "python",
   "nbconvert_exporter": "python",
   "pygments_lexer": "ipython3",
   "version": "3.6.0"
  }
 },
 "nbformat": 4,
 "nbformat_minor": 2
}
