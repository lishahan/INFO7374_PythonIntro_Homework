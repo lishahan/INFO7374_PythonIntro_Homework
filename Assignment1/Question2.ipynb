{
 "cells": [
  {
   "cell_type": "markdown",
   "metadata": {},
   "source": [
    "QUESTION 2\n",
    "• Under package Gutenberg get content from file 'melville-moby_dick.txt.' (HINT:\n",
    "Words? Raw?)\n",
    "• Find out frequency of 26 characters. (Turn uppercase into lowercase and count as one character)\n",
    "• List all 26 characters in order base on their frequency. (From most frequent to least frequent)\n",
    "Try NOT to use FreqDist module."
   ]
  },
  {
   "cell_type": "code",
   "execution_count": 1,
   "metadata": {
    "collapsed": false
   },
   "outputs": [
    {
     "data": {
      "text/plain": [
       "['austen-emma.txt',\n",
       " 'austen-persuasion.txt',\n",
       " 'austen-sense.txt',\n",
       " 'bible-kjv.txt',\n",
       " 'blake-poems.txt',\n",
       " 'bryant-stories.txt',\n",
       " 'burgess-busterbrown.txt',\n",
       " 'carroll-alice.txt',\n",
       " 'chesterton-ball.txt',\n",
       " 'chesterton-brown.txt',\n",
       " 'chesterton-thursday.txt',\n",
       " 'edgeworth-parents.txt',\n",
       " 'melville-moby_dick.txt',\n",
       " 'milton-paradise.txt',\n",
       " 'shakespeare-caesar.txt',\n",
       " 'shakespeare-hamlet.txt',\n",
       " 'shakespeare-macbeth.txt',\n",
       " 'whitman-leaves.txt']"
      ]
     },
     "execution_count": 1,
     "metadata": {},
     "output_type": "execute_result"
    }
   ],
   "source": [
    "import nltk\n",
    "nltk.corpus.gutenberg.fileids()"
   ]
  },
  {
   "cell_type": "code",
   "execution_count": 2,
   "metadata": {
    "collapsed": false
   },
   "outputs": [],
   "source": [
    "raw_txt = nltk.corpus.gutenberg.raw('melville-moby_dick.txt')\n",
    "raw_txt = raw_txt.lower()"
   ]
  },
  {
   "cell_type": "code",
   "execution_count": 3,
   "metadata": {
    "collapsed": false
   },
   "outputs": [],
   "source": [
    "import string\n",
    "string26 = string.ascii_lowercase\n",
    "dicFor26Char = {}\n",
    "for i in string26:\n",
    "    dicFor26Char[i] = 0"
   ]
  },
  {
   "cell_type": "code",
   "execution_count": 4,
   "metadata": {
    "collapsed": false
   },
   "outputs": [],
   "source": [
    "for i in raw_txt: \n",
    "    if i in dicFor26Char.keys():\n",
    "        dicFor26Char[i] += 1"
   ]
  },
  {
   "cell_type": "code",
   "execution_count": 5,
   "metadata": {
    "collapsed": false
   },
   "outputs": [],
   "source": [
    "dicFor26Char = sorted(dicFor26Char.items(), key = lambda x : x[1] ,reverse = True)"
   ]
  },
  {
   "cell_type": "code",
   "execution_count": 7,
   "metadata": {
    "collapsed": false
   },
   "outputs": [
    {
     "name": "stdout",
     "output_type": "stream",
     "text": [
      "e\n",
      "t\n",
      "a\n",
      "o\n",
      "n\n",
      "i\n",
      "s\n",
      "h\n",
      "r\n",
      "l\n",
      "d\n",
      "u\n",
      "m\n",
      "c\n",
      "w\n",
      "f\n",
      "g\n",
      "p\n",
      "b\n",
      "y\n",
      "v\n",
      "k\n",
      "q\n",
      "j\n",
      "x\n",
      "z\n"
     ]
    }
   ],
   "source": [
    "for i in range(26):\n",
    "    print(dicFor26Char[i][0])#List all 26 characters in order base on their frequency."
   ]
  }
 ],
 "metadata": {
  "kernelspec": {
   "display_name": "Python 3",
   "language": "python",
   "name": "python3"
  },
  "language_info": {
   "codemirror_mode": {
    "name": "ipython",
    "version": 3
   },
   "file_extension": ".py",
   "mimetype": "text/x-python",
   "name": "python",
   "nbconvert_exporter": "python",
   "pygments_lexer": "ipython3",
   "version": "3.6.0"
  }
 },
 "nbformat": 4,
 "nbformat_minor": 2
}
