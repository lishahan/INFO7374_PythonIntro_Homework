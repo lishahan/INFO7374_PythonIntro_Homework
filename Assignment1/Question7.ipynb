{
 "cells": [
  {
   "cell_type": "markdown",
   "metadata": {},
   "source": [
    "QUESTION 7\n",
    "• Use Name corpus, calculate the probability of a name being of a male or female\n",
    "base on the last character(s) of name.\n",
    "• Sample steps: For char ‘a’:\n",
    "total_names = sum(names ending with ‘a’)\n",
    "male_names = sum(male names ending with ‘a’)\n",
    "female_names = sum(female names ending with ‘a’)\n",
    "Probability of name being male = 100 * male_names / total_names\n",
    "2. Do this for all characters.\n",
    "• Output must come with proper title (e.g. [a] male: 25%, female: 60%)"
   ]
  },
  {
   "cell_type": "code",
   "execution_count": 9,
   "metadata": {
    "collapsed": false
   },
   "outputs": [],
   "source": [
    "import nltk\n",
    "nameList = nltk.corpus.names.fileids()"
   ]
  },
  {
   "cell_type": "code",
   "execution_count": 10,
   "metadata": {
    "collapsed": false
   },
   "outputs": [],
   "source": [
    "femaleNames = nltk.corpus.names.words('female.txt')\n",
    "maleNames = nltk.corpus.names.words('male.txt')"
   ]
  },
  {
   "cell_type": "code",
   "execution_count": 15,
   "metadata": {
    "collapsed": false
   },
   "outputs": [],
   "source": [
    "#get all the last char in female and male names\n",
    "char_female = ''\n",
    "char_male = ''\n",
    "for i in femaleNames:\n",
    "    char_female += i[-1].lower()\n",
    "for i in maleNames:\n",
    "    char_male += i[-1].lower()    "
   ]
  },
  {
   "cell_type": "code",
   "execution_count": 19,
   "metadata": {
    "collapsed": false
   },
   "outputs": [],
   "source": [
    "#Count the number of 26 chars in female and male names\n",
    "char26 = 'abcdefghijklmnopqrstuvwxyz'\n",
    "count_female = 0\n",
    "count_male = 0 \n",
    "dic_female = {}\n",
    "dic_male = {}\n",
    "for i in char26:\n",
    "    if i in char_female:\n",
    "        count_female += 1\n",
    "    dic_female[i] = count_female\n",
    "for i in char26:\n",
    "    if i in char_male:\n",
    "        count_male += 1\n",
    "    dic_male[i] = count_male     "
   ]
  },
  {
   "cell_type": "code",
   "execution_count": 42,
   "metadata": {
    "collapsed": false
   },
   "outputs": [
    {
     "name": "stdout",
     "output_type": "stream",
     "text": [
      "Probability if last character in one name is [a] Male 50.0 %, Female 50.0 %\n",
      "Probability if last character in one name is [b] Male 50.0 %, Female 50.0 %\n",
      "Probability if last character in one name is [c] Male 60.0 %, Female 40.0 %\n",
      "Probability if last character in one name is [d] Male 57.1 %, Female 42.9 %\n",
      "Probability if last character in one name is [e] Male 55.6 %, Female 44.4 %\n",
      "Probability if last character in one name is [f] Male 54.5 %, Female 45.5 %\n",
      "Probability if last character in one name is [g] Male 53.8 %, Female 46.2 %\n",
      "Probability if last character in one name is [h] Male 53.3 %, Female 46.7 %\n",
      "Probability if last character in one name is [i] Male 52.9 %, Female 47.1 %\n",
      "Probability if last character in one name is [j] Male 52.6 %, Female 47.4 %\n",
      "Probability if last character in one name is [k] Male 52.4 %, Female 47.6 %\n",
      "Probability if last character in one name is [l] Male 52.2 %, Female 47.8 %\n",
      "Probability if last character in one name is [m] Male 52.0 %, Female 48.0 %\n",
      "Probability if last character in one name is [n] Male 51.9 %, Female 48.1 %\n",
      "Probability if last character in one name is [o] Male 51.7 %, Female 48.3 %\n",
      "Probability if last character in one name is [p] Male 51.6 %, Female 48.4 %\n",
      "Probability if last character in one name is [q] Male 51.6 %, Female 48.4 %\n",
      "Probability if last character in one name is [r] Male 51.5 %, Female 48.5 %\n",
      "Probability if last character in one name is [s] Male 51.4 %, Female 48.6 %\n",
      "Probability if last character in one name is [t] Male 51.4 %, Female 48.6 %\n",
      "Probability if last character in one name is [u] Male 51.3 %, Female 48.7 %\n",
      "Probability if last character in one name is [v] Male 51.2 %, Female 48.8 %\n",
      "Probability if last character in one name is [w] Male 51.2 %, Female 48.8 %\n",
      "Probability if last character in one name is [x] Male 51.1 %, Female 48.9 %\n",
      "Probability if last character in one name is [y] Male 51.1 %, Female 48.9 %\n",
      "Probability if last character in one name is [z] Male 51.0 %, Female 49.0 %\n"
     ]
    }
   ],
   "source": [
    "for i in char26:\n",
    "    percentage_female = 100*dic_female[i]/(dic_male[i]+dic_female[i])\n",
    "    percentage_male = 100*dic_male[i]/(dic_male[i]+dic_female[i])\n",
    "    print(\"Probability if last character in one name is [%s] Male %.1f %%, Female %.1f %%\" %(i,percentage_male,percentage_female))      "
   ]
  }
 ],
 "metadata": {
  "kernelspec": {
   "display_name": "Python 3",
   "language": "python",
   "name": "python3"
  },
  "language_info": {
   "codemirror_mode": {
    "name": "ipython",
    "version": 3
   },
   "file_extension": ".py",
   "mimetype": "text/x-python",
   "name": "python",
   "nbconvert_exporter": "python",
   "pygments_lexer": "ipython3",
   "version": "3.6.0"
  }
 },
 "nbformat": 4,
 "nbformat_minor": 2
}
