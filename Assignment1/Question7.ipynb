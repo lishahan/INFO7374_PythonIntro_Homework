{
 "cells": [
  {
   "cell_type": "markdown",
   "metadata": {},
   "source": [
    "QUESTION 7\n",
    "• Use Name corpus, calculate the probability of a name being of a male or female\n",
    "base on the last character(s) of name.\n",
    "• Sample steps: For char ‘a’:\n",
    "total_names = sum(names ending with ‘a’)\n",
    "male_names = sum(male names ending with ‘a’)\n",
    "female_names = sum(female names ending with ‘a’)\n",
    "Probability of name being male = 100 * male_names / total_names\n",
    "2. Do this for all characters.\n",
    "• Output must come with proper title (e.g. [a] male: 25%, female: 60%)"
   ]
  },
  {
   "cell_type": "code",
   "execution_count": 1,
   "metadata": {
    "collapsed": false
   },
   "outputs": [],
   "source": [
    "import nltk\n",
    "nameList = nltk.corpus.names.fileids()"
   ]
  },
  {
   "cell_type": "code",
   "execution_count": 2,
   "metadata": {
    "collapsed": false
   },
   "outputs": [],
   "source": [
    "femaleNames = nltk.corpus.names.words('female.txt')\n",
    "maleNames = nltk.corpus.names.words('male.txt')"
   ]
  },
  {
   "cell_type": "code",
   "execution_count": 32,
   "metadata": {
    "collapsed": true
   },
   "outputs": [],
   "source": [
    "#get all the last char in female and male names\n",
    "char_female = []\n",
    "char_male = []\n",
    "char_female = [i[-1].lower() for i in femaleNames]\n",
    "char_male = [i[-1].lower() for i in maleNames]"
   ]
  },
  {
   "cell_type": "code",
   "execution_count": 37,
   "metadata": {
    "collapsed": false
   },
   "outputs": [],
   "source": [
    "#Count the number of 26 chars in female and male names\n",
    "dic_female = {}\n",
    "dic_male = {}\n",
    "for char in char_female:\n",
    "    if char in dic_female:\n",
    "        dic_female[char] += 1\n",
    "    else:\n",
    "        dic_female[char] = 1\n",
    "for char in char_male:\n",
    "    if char in dic_male:\n",
    "        dic_male[char] += 1\n",
    "    else:\n",
    "        dic_male[char] = 1"
   ]
  },
  {
   "cell_type": "code",
   "execution_count": 47,
   "metadata": {
    "collapsed": false
   },
   "outputs": [
    {
     "name": "stdout",
     "output_type": "stream",
     "text": [
      "Probability if last character in one name is [a] Male 1.6 %, Female 98.4 %\n",
      "Probability if last character in one name is [b] Male 70.0 %, Female 30.0 %\n",
      "Probability if last character in one name is [c] Male 100.0 %, Female 0.0 %\n",
      "Probability if last character in one name is [d] Male 85.4 %, Female 14.6 %\n",
      "Probability if last character in one name is [e] Male 24.6 %, Female 75.4 %\n",
      "Probability if last character in one name is [f] Male 92.6 %, Female 7.4 %\n",
      "Probability if last character in one name is [g] Male 76.2 %, Female 23.8 %\n",
      "Probability if last character in one name is [h] Male 47.0 %, Female 53.0 %\n",
      "Probability if last character in one name is [i] Male 13.6 %, Female 86.4 %\n",
      "Probability if last character in one name is [j] Male 75.0 %, Female 25.0 %\n",
      "Probability if last character in one name is [k] Male 95.8 %, Female 4.2 %\n",
      "Probability if last character in one name is [l] Male 51.1 %, Female 48.9 %\n",
      "Probability if last character in one name is [m] Male 84.3 %, Female 15.7 %\n",
      "Probability if last character in one name is [n] Male 55.3 %, Female 44.7 %\n",
      "Probability if last character in one name is [o] Male 83.3 %, Female 16.7 %\n",
      "Probability if last character in one name is [p] Male 90.0 %, Female 10.0 %\n",
      "Probability if last character in one name is [q] Male 0.0 %, Female 0.0 %\n",
      "Probability if last character in one name is [r] Male 80.2 %, Female 19.8 %\n",
      "Probability if last character in one name is [s] Male 71.2 %, Female 28.8 %\n",
      "Probability if last character in one name is [t] Male 70.7 %, Female 29.3 %\n",
      "Probability if last character in one name is [u] Male 66.7 %, Female 33.3 %\n",
      "Probability if last character in one name is [v] Male 88.9 %, Female 11.1 %\n",
      "Probability if last character in one name is [w] Male 77.3 %, Female 22.7 %\n",
      "Probability if last character in one name is [x] Male 50.0 %, Female 50.0 %\n",
      "Probability if last character in one name is [y] Male 41.9 %, Female 58.1 %\n",
      "Probability if last character in one name is [z] Male 73.3 %, Female 26.7 %\n"
     ]
    }
   ],
   "source": [
    "char26 = ['a','b','c','d','e','f','g','h','i','j','k','l','m','n','o','p','q','r','s','t','u','v','w','x','y','z']\n",
    "for i in char26:\n",
    "    if i not in dic_female.keys():\n",
    "        dic_female[i] = 0\n",
    "for i in char26:\n",
    "    if i not in dic_male.keys():\n",
    "        dic_male[i] = 0\n",
    "for i in char26:\n",
    "    if dic_male[i]+dic_female[i] == 0:\n",
    "        percentage_female = 0\n",
    "        percentage_male = 0\n",
    "        print(\"Probability if last character in one name is [%s] Male %.1f %%, Female %.1f %%\" %(i,percentage_male,percentage_female))      \n",
    "    else:        \n",
    "        percentage_female = 100*dic_female[i]/(dic_male[i]+dic_female[i])\n",
    "        percentage_male = 100*dic_male[i]/(dic_male[i]+dic_female[i])\n",
    "        print(\"Probability if last character in one name is [%s] Male %.1f %%, Female %.1f %%\" %(i,percentage_male,percentage_female))      "
   ]
  }
 ],
 "metadata": {
  "kernelspec": {
   "display_name": "Python 3",
   "language": "python",
   "name": "python3"
  },
  "language_info": {
   "codemirror_mode": {
    "name": "ipython",
    "version": 3
   },
   "file_extension": ".py",
   "mimetype": "text/x-python",
   "name": "python",
   "nbconvert_exporter": "python",
   "pygments_lexer": "ipython3",
   "version": "3.6.0"
  }
 },
 "nbformat": 4,
 "nbformat_minor": 2
}
