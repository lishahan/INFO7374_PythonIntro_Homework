{
 "cells": [
  {
   "cell_type": "markdown",
   "metadata": {},
   "source": [
    "QUESTION 4\n",
    "• Under package nps_chat, see what files are in it.\n",
    "• Find 'user121' and see how many posts he posted in all.\n",
    "• Find out how many unique user in each age range group. (20s, 30s,...)(Hint: files' name)"
   ]
  },
  {
   "cell_type": "code",
   "execution_count": 46,
   "metadata": {
    "collapsed": false
   },
   "outputs": [
    {
     "data": {
      "text/plain": [
       "['10-19-20s_706posts.xml',\n",
       " '10-19-30s_705posts.xml',\n",
       " '10-19-40s_686posts.xml',\n",
       " '10-19-adults_706posts.xml',\n",
       " '10-24-40s_706posts.xml',\n",
       " '10-26-teens_706posts.xml',\n",
       " '11-06-adults_706posts.xml',\n",
       " '11-08-20s_705posts.xml',\n",
       " '11-08-40s_706posts.xml',\n",
       " '11-08-adults_705posts.xml',\n",
       " '11-08-teens_706posts.xml',\n",
       " '11-09-20s_706posts.xml',\n",
       " '11-09-40s_706posts.xml',\n",
       " '11-09-adults_706posts.xml',\n",
       " '11-09-teens_706posts.xml']"
      ]
     },
     "execution_count": 46,
     "metadata": {},
     "output_type": "execute_result"
    }
   ],
   "source": [
    "import nltk\n",
    "nltk.corpus.nps_chat.fileids()"
   ]
  },
  {
   "cell_type": "code",
   "execution_count": 69,
   "metadata": {
    "collapsed": false
   },
   "outputs": [
    {
     "name": "stdout",
     "output_type": "stream",
     "text": [
      "User121 posts 167 times\n"
     ]
    }
   ],
   "source": [
    "posts = ''\n",
    "total = 0\n",
    "fileLogs = nltk.corpus.nps_chat.fileids()\n",
    "for i in fileLogs:\n",
    "    posts += nltk.corpus.nps_chat.raw(i)\n",
    "splitSents = posts.split('user=\"')\n",
    "for i in splitSents:\n",
    "    if 'User121' in i:\n",
    "        total += 1\n",
    "print('User121 posts', total, 'times')"
   ]
  },
  {
   "cell_type": "code",
   "execution_count": 80,
   "metadata": {
    "collapsed": false
   },
   "outputs": [],
   "source": [
    "dicAges = {'20s':'', '30s':'', '40s':'', 'teens': '', 'adults':''}\n",
    "for i in splitSents:\n",
    "    if '20s' in i[:20]:\n",
    "        dicAges['20s'] += i\n",
    "    if '30s' in i[:20]:\n",
    "        dicAges['30s'] += i\n",
    "    if '40s' in i[:20]:\n",
    "        dicAges['40s'] += i\n",
    "    if 'teens' in i[:20]:\n",
    "        dicAges['teens'] += i\n",
    "    if 'adults' in i[:20]:\n",
    "        dicAges['adults'] += i "
   ]
  },
  {
   "cell_type": "code",
   "execution_count": 109,
   "metadata": {
    "collapsed": false
   },
   "outputs": [
    {
     "name": "stdout",
     "output_type": "stream",
     "text": [
      "20s age range has  233 unique users\n",
      "30s age range has  107 unique users\n",
      "40s age range has  327 unique users\n",
      "teens age range has  242 unique users\n",
      "adults age range has  300 unique users\n"
     ]
    }
   ],
   "source": [
    "existingUser = ''\n",
    "count = 0\n",
    "splitUser = dicAges['20s'].split('20sUser')\n",
    "for i in splitUser:\n",
    "    if i[:3] in existingUser:\n",
    "        splitUser.remove(i)\n",
    "    else:\n",
    "        existingUser += i[:3]\n",
    "        count += 1\n",
    "print('20s age range has ', count, 'unique users')\n",
    "\n",
    "existingUser = ''\n",
    "count = 0\n",
    "splitUser = dicAges['30s'].split('30sUser')\n",
    "for i in splitUser:\n",
    "    if i[:3] in existingUser:\n",
    "        splitUser.remove(i)\n",
    "    else:\n",
    "        existingUser += i[:3]\n",
    "        count += 1\n",
    "print('30s age range has ', count, 'unique users')\n",
    "\n",
    "existingUser = ''\n",
    "count = 0\n",
    "splitUser = dicAges['40s'].split('40sUser')\n",
    "for i in splitUser:\n",
    "    if i[:3] in existingUser:\n",
    "        splitUser.remove(i)\n",
    "    else:\n",
    "        existingUser += i[:3]\n",
    "        count += 1\n",
    "print('40s age range has ', count, 'unique users')\n",
    "\n",
    "existingUser = ''\n",
    "count = 0\n",
    "splitUser = dicAges['teens'].split('teensUser')\n",
    "for i in splitUser:\n",
    "    if i[:3] in existingUser:\n",
    "        splitUser.remove(i)\n",
    "    else:\n",
    "        existingUser += i[:3]\n",
    "        count += 1\n",
    "print('teens age range has ', count, 'unique users')\n",
    "\n",
    "existingUser = ''\n",
    "count = 0\n",
    "splitUser = dicAges['adults'].split('adultsUser')\n",
    "for i in splitUser:\n",
    "    if i[:3] in existingUser:\n",
    "        splitUser.remove(i)\n",
    "    else:\n",
    "        existingUser += i[:3]\n",
    "        count += 1\n",
    "print('adults age range has ', count, 'unique users')"
   ]
  }
 ],
 "metadata": {
  "kernelspec": {
   "display_name": "Python 3",
   "language": "python",
   "name": "python3"
  },
  "language_info": {
   "codemirror_mode": {
    "name": "ipython",
    "version": 3
   },
   "file_extension": ".py",
   "mimetype": "text/x-python",
   "name": "python",
   "nbconvert_exporter": "python",
   "pygments_lexer": "ipython3",
   "version": "3.6.0"
  }
 },
 "nbformat": 4,
 "nbformat_minor": 2
}
