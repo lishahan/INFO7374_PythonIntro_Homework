{
 "cells": [
  {
   "cell_type": "markdown",
   "metadata": {},
   "source": [
    "QUESTION 8\n",
    "• Use nps_chat and wordlist corpus.\n",
    "• If you find a word in nps_chat but not in wordlist, it is considered an unusual word. (e.g. Heyyyy, gr8, 4ever can be considered unusual words for this analysis)\n",
    "• Find out how many unusual words people speak in chat (notice: usernames should not be counted)\n",
    "• Bonus: What if I want to count : ) , : ( all these emoticons in. (optional)"
   ]
  },
  {
   "cell_type": "code",
   "execution_count": 2,
   "metadata": {
    "collapsed": false
   },
   "outputs": [],
   "source": [
    "import nltk\n",
    "chatLogs = nltk.corpus.nps_chat.fileids()\n",
    "import string\n",
    "from nltk.corpus import stopwords"
   ]
  },
  {
   "cell_type": "code",
   "execution_count": 3,
   "metadata": {
    "collapsed": false
   },
   "outputs": [],
   "source": [
    "wordList_words = nltk.corpus.words.words()\n",
    "wordList_words = [word.lower() for word in wordList_words]"
   ]
  },
  {
   "cell_type": "code",
   "execution_count": 4,
   "metadata": {
    "collapsed": false
   },
   "outputs": [],
   "source": [
    "word_web = nltk.corpus.nps_chat.posts()\n",
    "wordList_chat = []\n",
    "for word in word_web:\n",
    "    wordList_chat.extend(word)\n",
    "wordList_chat = set(wordList_chat)"
   ]
  },
  {
   "cell_type": "code",
   "execution_count": 8,
   "metadata": {
    "collapsed": false
   },
   "outputs": [],
   "source": [
    "#Get all the user names\n",
    "posts = nltk.corpus.nps_chat.xml_posts()\n",
    "users = []\n",
    "set = []\n",
    "for post in posts:                            \n",
    "    user = post.get(\"user\") \n",
    "    set = user.split('User')\n",
    "    user = 'u'+set[1]\n",
    "    users.append(user)"
   ]
  },
  {
   "cell_type": "code",
   "execution_count": 9,
   "metadata": {
    "collapsed": false
   },
   "outputs": [
    {
     "name": "stdout",
     "output_type": "stream",
     "text": [
      "['u7', 'u7', 'u76', 'u59', 'u115', 'u7', 'u121', 'u84', 'u7', 'u123']\n"
     ]
    }
   ],
   "source": [
    "print(users[:10])"
   ]
  },
  {
   "cell_type": "code",
   "execution_count": 15,
   "metadata": {
    "collapsed": true
   },
   "outputs": [],
   "source": [
    "#remove users and emoj\n",
    "wordList_chat = [word for word in wordList_chat if word not in users]\n",
    "wordList_chat = [word.lower() for word in wordList_chat]"
   ]
  },
  {
   "cell_type": "code",
   "execution_count": 16,
   "metadata": {
    "collapsed": false
   },
   "outputs": [],
   "source": [
    "#remove same words\n",
    "dic_chat =[]\n",
    "dic_chat = [word for word in wordList_chat if word not in dic_chat]"
   ]
  },
  {
   "cell_type": "code",
   "execution_count": 17,
   "metadata": {
    "collapsed": true
   },
   "outputs": [],
   "source": [
    "#remove punctuations\n",
    "punctuationWords = string.punctuation\n",
    "dic_chat = [word for word in dic_chat if word not in punctuationWords]\n",
    "\n",
    "#remove stop words\n",
    "cachedStopWords = stopwords.words(\"english\")\n",
    "dic_chat = [word for word in dic_chat if word not in cachedStopWords]"
   ]
  },
  {
   "cell_type": "code",
   "execution_count": 18,
   "metadata": {
    "collapsed": false
   },
   "outputs": [],
   "source": [
    "#Get all unusual words in web chat\n",
    "wordList_unusual = []\n",
    "wordList_unusual = [word for word in dic_chat if word not in wordList_words]"
   ]
  },
  {
   "cell_type": "code",
   "execution_count": 22,
   "metadata": {
    "collapsed": false
   },
   "outputs": [
    {
     "name": "stdout",
     "output_type": "stream",
     "text": [
      "['hiyas', 'alterz', 'rumour', '21', 'ny', 'heys', 'spanked', 'latins', '.......', 'kidding']\n"
     ]
    }
   ],
   "source": [
    "print(wordList_unusual[:10])"
   ]
  },
  {
   "cell_type": "code",
   "execution_count": 20,
   "metadata": {
    "collapsed": false
   },
   "outputs": [
    {
     "name": "stdout",
     "output_type": "stream",
     "text": [
      "There are 2827 unusual words in people's chats.\n"
     ]
    }
   ],
   "source": [
    "print(\"There are\", len(wordList_unusual), \"unusual words in people's chats.\")"
   ]
  }
 ],
 "metadata": {
  "kernelspec": {
   "display_name": "Python 3",
   "language": "python",
   "name": "python3"
  },
  "language_info": {
   "codemirror_mode": {
    "name": "ipython",
    "version": 3
   },
   "file_extension": ".py",
   "mimetype": "text/x-python",
   "name": "python",
   "nbconvert_exporter": "python",
   "pygments_lexer": "ipython3",
   "version": "3.6.0"
  }
 },
 "nbformat": 4,
 "nbformat_minor": 2
}
