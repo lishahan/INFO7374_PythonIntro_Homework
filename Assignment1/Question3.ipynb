{
 "cells": [
  {
   "cell_type": "markdown",
   "metadata": {},
   "source": [
    "QUESTION 3\n",
    "• Under package Webtext, see what files are in it.\n",
    "• Get content in file 'pirates.txt'.\n",
    "• According to the number of lines for Jack Sparrow and Will Turner, find out who is the real leading man in this movie."
   ]
  },
  {
   "cell_type": "code",
   "execution_count": 34,
   "metadata": {
    "collapsed": false
   },
   "outputs": [
    {
     "data": {
      "text/plain": [
       "['firefox.txt',\n",
       " 'grail.txt',\n",
       " 'overheard.txt',\n",
       " 'pirates.txt',\n",
       " 'singles.txt',\n",
       " 'wine.txt']"
      ]
     },
     "execution_count": 34,
     "metadata": {},
     "output_type": "execute_result"
    }
   ],
   "source": [
    "import nltk\n",
    "nltk.corpus.webtext.fileids()"
   ]
  },
  {
   "cell_type": "code",
   "execution_count": 37,
   "metadata": {
    "collapsed": false
   },
   "outputs": [],
   "source": [
    "lines = nltk.corpus.webtext.raw('pirates.txt')"
   ]
  },
  {
   "cell_type": "code",
   "execution_count": 38,
   "metadata": {
    "collapsed": false
   },
   "outputs": [],
   "source": [
    "jack = 0\n",
    "will = 0\n",
    "for i in lines:\n",
    "    if 'JACK SPARROW:' in i:\n",
    "        jack += 1\n",
    "    elif 'WILL TURNER:' in i:\n",
    "        will += 1"
   ]
  },
  {
   "cell_type": "code",
   "execution_count": 39,
   "metadata": {
    "collapsed": false
   },
   "outputs": [
    {
     "name": "stdout",
     "output_type": "stream",
     "text": [
      "The real hero in this movie is Jack Sperrow\n"
     ]
    }
   ],
   "source": [
    "if jack >= will:\n",
    "    print ('The real hero in this movie is Jack Sperrow')\n",
    "else:\n",
    "    print ('The real hero in this movie is Will Turner')"
   ]
  }
 ],
 "metadata": {
  "kernelspec": {
   "display_name": "Python 3",
   "language": "python",
   "name": "python3"
  },
  "language_info": {
   "codemirror_mode": {
    "name": "ipython",
    "version": 3
   },
   "file_extension": ".py",
   "mimetype": "text/x-python",
   "name": "python",
   "nbconvert_exporter": "python",
   "pygments_lexer": "ipython3",
   "version": "3.6.0"
  }
 },
 "nbformat": 4,
 "nbformat_minor": 2
}
