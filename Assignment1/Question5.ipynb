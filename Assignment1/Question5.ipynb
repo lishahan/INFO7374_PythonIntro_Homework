{
 "cells": [
  {
   "cell_type": "markdown",
   "metadata": {},
   "source": [
    "QUESTION 5\n",
    "• Use Gutenberg and Web_text data. Find out what are the top 5 words that\n",
    "Shakespeare used but we do not use in currently.\n",
    "• Take top 50 words from Shakespeare (all 3 books) and top 50 from Web_text (all the records).\n",
    "• Remove punctuation and stop words.\n",
    "• Remove the words we still use today, and get the unused list. Show the top 5 elements."
   ]
  },
  {
   "cell_type": "code",
   "execution_count": 1,
   "metadata": {
    "collapsed": false
   },
   "outputs": [
    {
     "data": {
      "text/plain": [
       "['firefox.txt',\n",
       " 'grail.txt',\n",
       " 'overheard.txt',\n",
       " 'pirates.txt',\n",
       " 'singles.txt',\n",
       " 'wine.txt']"
      ]
     },
     "execution_count": 1,
     "metadata": {},
     "output_type": "execute_result"
    }
   ],
   "source": [
    "import nltk\n",
    "import string\n",
    "from nltk.corpus import stopwords\n",
    "nltk.corpus.webtext.fileids()"
   ]
  },
  {
   "cell_type": "code",
   "execution_count": 2,
   "metadata": {
    "collapsed": false
   },
   "outputs": [],
   "source": [
    "words_shake1 = nltk.corpus.gutenberg.words('shakespeare-caesar.txt')\n",
    "words_shake2 = nltk.corpus.gutenberg.words('shakespeare-hamlet.txt')\n",
    "words_shake3 = nltk.corpus.gutenberg.words('shakespeare-macbeth.txt')\n",
    "words_shake =words_shake1 + words_shake2 + words_shake3\n",
    "\n",
    "words_web1=nltk.corpus.webtext.words('firefox.txt')\n",
    "words_web2=nltk.corpus.webtext.words('overheard.txt')\n",
    "words_web3=nltk.corpus.webtext.words('grail.txt')\n",
    "words_web4=nltk.corpus.webtext.words('pirates.txt')\n",
    "words_web5=nltk.corpus.webtext.words('singles.txt')\n",
    "words_web6=nltk.corpus.webtext.words('wine.txt')\n",
    "words_web=words_web1+words_web2+words_web3+words_web4+words_web5+words_web6"
   ]
  },
  {
   "cell_type": "code",
   "execution_count": 3,
   "metadata": {
    "collapsed": false
   },
   "outputs": [],
   "source": [
    "#set all words to lowercase\n",
    "words_shake=[word.lower() for word in words_shake]\n",
    "words_web=[word.lower() for word in words_web]"
   ]
  },
  {
   "cell_type": "code",
   "execution_count": 4,
   "metadata": {
    "collapsed": false
   },
   "outputs": [],
   "source": [
    "#remove punctuations\n",
    "punctuationWords = string.punctuation\n",
    "words_web = [word for word in words_web if word not in punctuationWords]\n",
    "words_shake = [word for word in words_shake if word not in punctuationWords]"
   ]
  },
  {
   "cell_type": "code",
   "execution_count": 5,
   "metadata": {
    "collapsed": true
   },
   "outputs": [],
   "source": [
    "#remove stop words\n",
    "cachedStopWords = stopwords.words(\"english\")\n",
    "words_web = [word for word in words_web if word not in cachedStopWords]\n",
    "words_shake = [word for word in words_shake if word not in cachedStopWords]"
   ]
  },
  {
   "cell_type": "code",
   "execution_count": 6,
   "metadata": {
    "collapsed": false
   },
   "outputs": [],
   "source": [
    "dic_web = {}\n",
    "dic_shake = {}\n",
    "for word in words_web:\n",
    "    if word in dic_web.keys(): \n",
    "        dic_web[word] += 1\n",
    "    else: \n",
    "        dic_web[word] = 1\n",
    "        \n",
    "for word in words_shake:\n",
    "    if word in dic_shake.keys():\n",
    "        dic_shake[word] += 1\n",
    "    else:\n",
    "        dic_shake[word] = 1\n",
    "\n",
    "dic_shake = sorted(dic_shake.items(), key = lambda x : x[1] ,reverse = True)\n",
    "dic_web = sorted(dic_web.items(), key = lambda x : x[1] ,reverse = True)\n",
    "dic_shake = dic_shake[:50]\n",
    "dic_web = dic_web[:50]"
   ]
  },
  {
   "cell_type": "code",
   "execution_count": 7,
   "metadata": {
    "collapsed": false
   },
   "outputs": [
    {
     "name": "stdout",
     "output_type": "stream",
     "text": [
      "Top 5 used words in Shakespear's plays but not in use nowadays are:\n",
      "['haue', 'vpon', 'brutus', 'bru', 'hath']\n"
     ]
    }
   ],
   "source": [
    "#Get word used in Shakespear's play but not in use nowadays\n",
    "words_unpopular = [dic_shake[i][0] for i in range(50) if dic_shake[i][0] not in words_web]\n",
    "print(\"Top 5 used words in Shakespear's plays but not in use nowadays are:\")\n",
    "print(words_unpopular[:5])"
   ]
  }
 ],
 "metadata": {
  "kernelspec": {
   "display_name": "Python 3",
   "language": "python",
   "name": "python3"
  },
  "language_info": {
   "codemirror_mode": {
    "name": "ipython",
    "version": 3
   },
   "file_extension": ".py",
   "mimetype": "text/x-python",
   "name": "python",
   "nbconvert_exporter": "python",
   "pygments_lexer": "ipython3",
   "version": "3.6.0"
  }
 },
 "nbformat": 4,
 "nbformat_minor": 2
}
