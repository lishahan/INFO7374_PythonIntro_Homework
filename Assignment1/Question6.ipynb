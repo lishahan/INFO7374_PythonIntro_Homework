{
 "cells": [
  {
   "cell_type": "markdown",
   "metadata": {},
   "source": [
    "QUESTION 6\n",
    "• Under Inaugural Address package\n",
    "• For every president, find out how many unique words they used in speech.\n",
    "• We will just assume that President Bush means one person (technically it is incorrect but we will ignore it)"
   ]
  },
  {
   "cell_type": "code",
   "execution_count": 33,
   "metadata": {
    "collapsed": false
   },
   "outputs": [],
   "source": [
    "import nltk\n",
    "speechLogs = nltk.corpus.inaugural.fileids()"
   ]
  },
  {
   "cell_type": "code",
   "execution_count": 43,
   "metadata": {
    "collapsed": false
   },
   "outputs": [
    {
     "name": "stdout",
     "output_type": "stream",
     "text": [
      "{'Washi': '1789-Washington.txt/1793-Washington.txt', 'Adams': '1797-Adams.txt/1825-Adams.txt', 'Jeffe': '1801-Jefferson.txt/1805-Jefferson.txt', 'Madis': '1809-Madison.txt/1813-Madison.txt', 'Monro': '1817-Monroe.txt/1821-Monroe.txt', 'Jacks': '1829-Jackson.txt/1833-Jackson.txt', 'VanBu': '1837-VanBuren.txt', 'Harri': '1841-Harrison.txt/1889-Harrison.txt', 'Polk.': '1845-Polk.txt', 'Taylo': '1849-Taylor.txt', 'Pierc': '1853-Pierce.txt', 'Bucha': '1857-Buchanan.txt', 'Linco': '1861-Lincoln.txt/1865-Lincoln.txt', 'Grant': '1869-Grant.txt/1873-Grant.txt', 'Hayes': '1877-Hayes.txt', 'Garfi': '1881-Garfield.txt', 'Cleve': '1885-Cleveland.txt/1893-Cleveland.txt', 'McKin': '1897-McKinley.txt/1901-McKinley.txt', 'Roose': '1905-Roosevelt.txt/1933-Roosevelt.txt/1937-Roosevelt.txt/1941-Roosevelt.txt/1945-Roosevelt.txt', 'Taft.': '1909-Taft.txt', 'Wilso': '1913-Wilson.txt/1917-Wilson.txt', 'Hardi': '1921-Harding.txt', 'Cooli': '1925-Coolidge.txt', 'Hoove': '1929-Hoover.txt', 'Truma': '1949-Truman.txt', 'Eisen': '1953-Eisenhower.txt/1957-Eisenhower.txt', 'Kenne': '1961-Kennedy.txt', 'Johns': '1965-Johnson.txt', 'Nixon': '1969-Nixon.txt/1973-Nixon.txt', 'Carte': '1977-Carter.txt', 'Reaga': '1981-Reagan.txt/1985-Reagan.txt', 'Bush.': '1989-Bush.txt/2001-Bush.txt/2005-Bush.txt', 'Clint': '1993-Clinton.txt/1997-Clinton.txt', 'Obama': '2009-Obama.txt'}\n"
     ]
    }
   ],
   "source": [
    "presidents = {}\n",
    "for i in speechLogs:\n",
    "    if i[5:10] in presidents.keys():\n",
    "        presidents[i[5:10]] += '/'\n",
    "        presidents[i[5:10]] += i        \n",
    "    else:\n",
    "        presidents[i[5:10]] = i        \n",
    "print(presidents)"
   ]
  },
  {
   "cell_type": "code",
   "execution_count": 30,
   "metadata": {
    "collapsed": false
   },
   "outputs": [],
   "source": [
    "def uniqueWord(wordList):\n",
    "    wordCount = []\n",
    "    for i in wordList:\n",
    "        if i not in wordCount:\n",
    "            wordCount.extend(i)\n",
    "    return wordCount"
   ]
  },
  {
   "cell_type": "code",
   "execution_count": 34,
   "metadata": {
    "collapsed": false
   },
   "outputs": [
    {
     "name": "stdout",
     "output_type": "stream",
     "text": [
      "President Washington used 7682 unique words in his speeches.\n",
      "President Adams used 25764 unique words in his speeches.\n",
      "President Jefferson used 18635 unique words in his speeches.\n",
      "President Madison used 11523 unique words in his speeches.\n",
      "President Monroe used 37414 unique words in his speeches.\n",
      "President Jackson used 11340 unique words in his speeches.\n",
      "President VanBuren used 19149 unique words in his speeches.\n",
      "President Harrison used 61729 unique words in his speeches.\n",
      "President Polk used 23435 unique words in his speeches.\n",
      "President Taylor used 5399 unique words in his speeches.\n",
      "President Pierce used 16338 unique words in his speeches.\n",
      "President Buchanan used 13650 unique words in his speeches.\n",
      "President Lincoln used 20027 unique words in his speeches.\n",
      "President Grant used 11423 unique words in his speeches.\n",
      "President Hayes used 12150 unique words in his speeches.\n",
      "President Garfield used 14473 unique words in his speeches.\n",
      "President Cleveland used 18418 unique words in his speeches.\n",
      "President McKinley used 30145 unique words in his speeches.\n",
      "President Roosevelt used 30088 unique words in his speeches.\n",
      "President Taft used 26155 unique words in his speeches.\n",
      "President Wilson used 14331 unique words in his speeches.\n",
      "President Harding used 16457 unique words in his speeches.\n",
      "President Coolidge used 19401 unique words in his speeches.\n",
      "President Hoover used 17777 unique words in his speeches.\n",
      "President Truman used 11050 unique words in his speeches.\n",
      "President Eisenhower used 18317 unique words in his speeches.\n",
      "President Kennedy used 6023 unique words in his speeches.\n",
      "President Johnson used 6409 unique words in his speeches.\n",
      "President Nixon used 16958 unique words in his speeches.\n",
      "President Carter used 5444 unique words in his speeches.\n",
      "President Reagan used 22355 unique words in his speeches.\n",
      "President Bush used 26353 unique words in his speeches.\n",
      "President Clinton used 16891 unique words in his speeches.\n",
      "President Obama used 10645 unique words in his speeches.\n"
     ]
    }
   ],
   "source": [
    "for i in presidents.keys():\n",
    "    speech = presidents[i].split('/')\n",
    "    presidentName = speech[0].split('-')\n",
    "    presidentName = presidentName[1].split('.txt')[0]\n",
    "    words_president = []\n",
    "    for j in speech:\n",
    "        words_president.extend(nltk.corpus.inaugural.words(j))\n",
    "    count = len(uniqueWord(words_president))\n",
    "    print('President', presidentName, 'used', count, 'unique words in his speeches.')"
   ]
  }
 ],
 "metadata": {
  "kernelspec": {
   "display_name": "Python 3",
   "language": "python",
   "name": "python3"
  },
  "language_info": {
   "codemirror_mode": {
    "name": "ipython",
    "version": 3
   },
   "file_extension": ".py",
   "mimetype": "text/x-python",
   "name": "python",
   "nbconvert_exporter": "python",
   "pygments_lexer": "ipython3",
   "version": "3.6.0"
  }
 },
 "nbformat": 4,
 "nbformat_minor": 2
}
