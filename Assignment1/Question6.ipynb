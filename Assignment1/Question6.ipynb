{
 "cells": [
  {
   "cell_type": "markdown",
   "metadata": {},
   "source": [
    "QUESTION 6\n",
    "• Under Inaugural Address package\n",
    "• For every president, find out how many unique words they used in speech.\n",
    "• We will just assume that President Bush means one person (technically it is incorrect but we will ignore it)"
   ]
  },
  {
   "cell_type": "code",
   "execution_count": 35,
   "metadata": {
    "collapsed": false
   },
   "outputs": [],
   "source": [
    "import nltk\n",
    "import string\n",
    "from nltk.corpus import stopwords\n",
    "speechLogs = nltk.corpus.inaugural.fileids()"
   ]
  },
  {
   "cell_type": "code",
   "execution_count": 36,
   "metadata": {
    "collapsed": false
   },
   "outputs": [],
   "source": [
    "#Get all presidents' names\n",
    "presidents = {}\n",
    "for i in speechLogs:\n",
    "    if i[5:10] in presidents.keys():\n",
    "        presidents[i[5:10]] += '/'\n",
    "        presidents[i[5:10]] += i        \n",
    "    else:\n",
    "        presidents[i[5:10]] = i        "
   ]
  },
  {
   "cell_type": "code",
   "execution_count": 37,
   "metadata": {
    "collapsed": false
   },
   "outputs": [
    {
     "name": "stdout",
     "output_type": "stream",
     "text": [
      "1789-Washington.txt/1793-Washington.txt\n"
     ]
    }
   ],
   "source": [
    "print(presidents['Washi'])"
   ]
  },
  {
   "cell_type": "code",
   "execution_count": 54,
   "metadata": {
    "collapsed": false
   },
   "outputs": [
    {
     "name": "stdout",
     "output_type": "stream",
     "text": [
      "President Washington used 628 unique words in his speeches.\n",
      "President Adams used 1441 unique words in his speeches.\n",
      "President Jefferson used 1208 unique words in his speeches.\n",
      "President Madison used 865 unique words in his speeches.\n",
      "President Monroe used 1688 unique words in his speeches.\n",
      "President Jackson used 810 unique words in his speeches.\n",
      "President VanBuren used 1254 unique words in his speeches.\n",
      "President Harrison used 2545 unique words in his speeches.\n",
      "President Polk used 1260 unique words in his speeches.\n",
      "President Taylor used 483 unique words in his speeches.\n",
      "President Pierce used 1117 unique words in his speeches.\n",
      "President Buchanan used 893 unique words in his speeches.\n",
      "President Lincoln used 1180 unique words in his speeches.\n",
      "President Grant used 815 unique words in his speeches.\n",
      "President Hayes used 803 unique words in his speeches.\n",
      "President Garfield used 973 unique words in his speeches.\n",
      "President Cleveland used 1168 unique words in his speeches.\n",
      "President McKinley used 1606 unique words in his speeches.\n",
      "President Roosevelt used 1607 unique words in his speeches.\n",
      "President Taft used 1378 unique words in his speeches.\n",
      "President Wilson used 950 unique words in his speeches.\n",
      "President Harding used 1119 unique words in his speeches.\n",
      "President Coolidge used 1160 unique words in his speeches.\n",
      "President Hoover used 993 unique words in his speeches.\n",
      "President Truman used 741 unique words in his speeches.\n",
      "President Eisenhower used 1184 unique words in his speeches.\n",
      "President Kennedy used 538 unique words in his speeches.\n",
      "President Johnson used 530 unique words in his speeches.\n",
      "President Nixon used 982 unique words in his speeches.\n",
      "President Carter used 495 unique words in his speeches.\n",
      "President Reagan used 1369 unique words in his speeches.\n",
      "President Bush used 1481 unique words in his speeches.\n",
      "President Clinton used 1058 unique words in his speeches.\n",
      "President Obama used 892 unique words in his speeches.\n"
     ]
    }
   ],
   "source": [
    "for name in presidents.keys():\n",
    "    presidentName_set = []\n",
    "#Get Presidents' names\n",
    "    speeches = presidents[name].split('/')\n",
    "    presidentName_set = speeches[0].split('-')\n",
    "    presidentName_set = presidentName_set[1].split('.txt')\n",
    "    presidentName = presidentName_set[0]   \n",
    "#Get unique words each president used    \n",
    "    words_president = []\n",
    "    for speech in speeches:\n",
    "        words_president.extend(nltk.corpus.inaugural.words(speech))\n",
    "        words_president = [word.lower() for word in words_president] \n",
    "#remove punctuations\n",
    "        punctuationWords = string.punctuation\n",
    "        words_president = [word for word in words_president if word not in punctuationWords]\n",
    "    words_unique = {}    \n",
    "    for word in words_president:\n",
    "        if word in words_unique.keys():\n",
    "            words_unique[word] += 1\n",
    "        else:\n",
    "            words_unique[word] = 1\n",
    "    \n",
    "    count = len(words_unique)\n",
    "    print('President', presidentName, 'used', count, 'unique words in his speeches.')"
   ]
  },
  {
   "cell_type": "code",
   "execution_count": null,
   "metadata": {
    "collapsed": true
   },
   "outputs": [],
   "source": []
  }
 ],
 "metadata": {
  "kernelspec": {
   "display_name": "Python 3",
   "language": "python",
   "name": "python3"
  },
  "language_info": {
   "codemirror_mode": {
    "name": "ipython",
    "version": 3
   },
   "file_extension": ".py",
   "mimetype": "text/x-python",
   "name": "python",
   "nbconvert_exporter": "python",
   "pygments_lexer": "ipython3",
   "version": "3.6.0"
  }
 },
 "nbformat": 4,
 "nbformat_minor": 2
}
