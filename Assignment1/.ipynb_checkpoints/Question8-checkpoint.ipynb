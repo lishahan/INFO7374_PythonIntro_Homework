{
 "cells": [
  {
   "cell_type": "markdown",
   "metadata": {},
   "source": [
    "QUESTION 8\n",
    "• Use nps_chat and wordlist corpus.\n",
    "• If you find a word in nps_chat but not in wordlist, it is considered an unusual word. (e.g. Heyyyy, gr8, 4ever can be considered unusual words for this analysis)\n",
    "• Find out how many unusual words people speak in chat (notice: usernames should not be counted)\n",
    "• Bonus: What if I want to count : ) , : ( all these emoticons in. (optional)"
   ]
  },
  {
   "cell_type": "code",
   "execution_count": 1,
   "metadata": {
    "collapsed": false
   },
   "outputs": [],
   "source": [
    "import nltk\n",
    "chatLogs = nltk.corpus.nps_chat.fileids()\n",
    "import string\n",
    "from nltk.corpus import stopwords"
   ]
  },
  {
   "cell_type": "code",
   "execution_count": 2,
   "metadata": {
    "collapsed": false
   },
   "outputs": [
    {
     "name": "stdout",
     "output_type": "stream",
     "text": [
      "['10-19-20s_706posts.xml', '10-19-30s_705posts.xml', '10-19-40s_686posts.xml', '10-19-adults_706posts.xml', '10-24-40s_706posts.xml', '10-26-teens_706posts.xml', '11-06-adults_706posts.xml', '11-08-20s_705posts.xml', '11-08-40s_706posts.xml', '11-08-adults_705posts.xml', '11-08-teens_706posts.xml', '11-09-20s_706posts.xml', '11-09-40s_706posts.xml', '11-09-adults_706posts.xml', '11-09-teens_706posts.xml']\n"
     ]
    }
   ],
   "source": [
    "print(chatLogs)"
   ]
  },
  {
   "cell_type": "code",
   "execution_count": 3,
   "metadata": {
    "collapsed": false
   },
   "outputs": [],
   "source": [
    "wordList_words = nltk.corpus.words.words()\n",
    "wordList_words = [word.lower() for word in wordList_words]"
   ]
  },
  {
   "cell_type": "code",
   "execution_count": 4,
   "metadata": {
    "collapsed": false
   },
   "outputs": [],
   "source": [
    "word_web = nltk.corpus.nps_chat.posts()\n",
    "wordList_chat = []\n",
    "for word in word_web:\n",
    "    wordList_chat.extend(word)\n",
    "wordList_chat = set(wordList_chat)"
   ]
  },
  {
   "cell_type": "code",
   "execution_count": 61,
   "metadata": {
    "collapsed": false
   },
   "outputs": [],
   "source": [
    "posts = nltk.corpus.nps_chat.xml_posts()\n",
    "users = []\n",
    "for post in posts:                            \n",
    "    user = post.get(\"user\")  \n",
    "    users.append(user[9:])"
   ]
  },
  {
   "cell_type": "code",
   "execution_count": 85,
   "metadata": {
    "collapsed": true
   },
   "outputs": [],
   "source": [
    "#Get all the user names\n",
    "list_user = []\n",
    "for user in users:\n",
    "    if user not in list_user:\n",
    "        list_user.append(user)\n",
    "        set = []\n",
    "for word in list_user:\n",
    "    set = word.split('lts')\n",
    "    if len(set) == 2:\n",
    "        list_user.append(set[1])\n",
    "        set = []\n",
    "for word in list_user:\n",
    "    set = word.split('ns')\n",
    "    if len(set) == 2:\n",
    "        list_user.remove(word)\n",
    "        list_user.append(set[1])\n",
    "list_user = []\n",
    "for user in users:\n",
    "    if user not in list_user:\n",
    "        list_user.append(user)"
   ]
  },
  {
   "cell_type": "code",
   "execution_count": 88,
   "metadata": {
    "collapsed": true
   },
   "outputs": [],
   "source": [
    "#remove users and emoj\n",
    "wordList_chat = [word for word in wordList_chat if word not in users]\n",
    "wordList_chat = [word.lower() for word in wordList_chat]"
   ]
  },
  {
   "cell_type": "code",
   "execution_count": 91,
   "metadata": {
    "collapsed": false
   },
   "outputs": [],
   "source": [
    "#remove same words\n",
    "dic_chat =[]\n",
    "dic_chat = [word for word in wordList_chat if word not in dic_chat]"
   ]
  },
  {
   "cell_type": "code",
   "execution_count": 95,
   "metadata": {
    "collapsed": true
   },
   "outputs": [],
   "source": [
    "#remove punctuations\n",
    "punctuationWords = string.punctuation\n",
    "dic_chat = [word for word in dic_chat if word not in punctuationWords]\n",
    "\n",
    "#remove stop words\n",
    "cachedStopWords = stopwords.words(\"english\")\n",
    "dic_chat = [word for word in dic_chat if word not in cachedStopWords]"
   ]
  },
  {
   "cell_type": "code",
   "execution_count": 96,
   "metadata": {
    "collapsed": false
   },
   "outputs": [],
   "source": [
    "wordList_unusual = []\n",
    "wordList_unusual = [word for word in dic_chat if word not in wordList_words]"
   ]
  },
  {
   "cell_type": "code",
   "execution_count": 97,
   "metadata": {
    "collapsed": false
   },
   "outputs": [
    {
     "data": {
      "text/plain": [
       "2986"
      ]
     },
     "execution_count": 97,
     "metadata": {},
     "output_type": "execute_result"
    }
   ],
   "source": [
    "len(wordList_unusual)"
   ]
  }
 ],
 "metadata": {
  "kernelspec": {
   "display_name": "Python 3",
   "language": "python",
   "name": "python3"
  },
  "language_info": {
   "codemirror_mode": {
    "name": "ipython",
    "version": 3
   },
   "file_extension": ".py",
   "mimetype": "text/x-python",
   "name": "python",
   "nbconvert_exporter": "python",
   "pygments_lexer": "ipython3",
   "version": "3.6.0"
  }
 },
 "nbformat": 4,
 "nbformat_minor": 2
}
