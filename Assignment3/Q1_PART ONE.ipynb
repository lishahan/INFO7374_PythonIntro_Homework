{
 "cells": [
  {
   "cell_type": "markdown",
   "metadata": {
    "collapsed": true
   },
   "source": [
    "# Q1_PART ONE\n",
    "NYC VEHICLE COLLISION ANALYSIS"
   ]
  },
  {
   "cell_type": "markdown",
   "metadata": {},
   "source": [
    "Use ‘vehicle_collisions’ data set.\n",
    "• For each month in 2016, find out the percentage of collisions in\n",
    "Manhattan out of that year's total accidents in New York City.\n",
    "• Display a few rows of the output use df.head().\n",
    "• Generate a csv output with four columns (‘Month’, ‘Manhattan’, ‘NYC’, ‘Percentage’)"
   ]
  },
  {
   "cell_type": "code",
   "execution_count": 393,
   "metadata": {
    "collapsed": true
   },
   "outputs": [],
   "source": [
    "import pandas as pd\n",
    "from pandas import Series, DataFrame\n",
    "from datetime import datetime,date"
   ]
  },
  {
   "cell_type": "code",
   "execution_count": 394,
   "metadata": {
    "collapsed": false
   },
   "outputs": [],
   "source": [
    "path_local='Data/vehicle_collisions.csv'\n",
    "data_raw = pd.read_csv(path_local)"
   ]
  },
  {
   "cell_type": "code",
   "execution_count": 395,
   "metadata": {
    "collapsed": false
   },
   "outputs": [
    {
     "data": {
      "text/html": [
       "<div>\n",
       "<table border=\"1\" class=\"dataframe\">\n",
       "  <thead>\n",
       "    <tr style=\"text-align: right;\">\n",
       "      <th></th>\n",
       "      <th>UNIQUE KEY</th>\n",
       "      <th>DATE</th>\n",
       "      <th>TIME</th>\n",
       "      <th>BOROUGH</th>\n",
       "      <th>ZIP CODE</th>\n",
       "      <th>LATITUDE</th>\n",
       "      <th>LONGITUDE</th>\n",
       "      <th>LOCATION</th>\n",
       "      <th>ON STREET NAME</th>\n",
       "      <th>CROSS STREET NAME</th>\n",
       "      <th>...</th>\n",
       "      <th>VEHICLE 1 TYPE</th>\n",
       "      <th>VEHICLE 2 TYPE</th>\n",
       "      <th>VEHICLE 3 TYPE</th>\n",
       "      <th>VEHICLE 4 TYPE</th>\n",
       "      <th>VEHICLE 5 TYPE</th>\n",
       "      <th>VEHICLE 1 FACTOR</th>\n",
       "      <th>VEHICLE 2 FACTOR</th>\n",
       "      <th>VEHICLE 3 FACTOR</th>\n",
       "      <th>VEHICLE 4 FACTOR</th>\n",
       "      <th>VEHICLE 5 FACTOR</th>\n",
       "    </tr>\n",
       "  </thead>\n",
       "  <tbody>\n",
       "    <tr>\n",
       "      <th>0</th>\n",
       "      <td>3146911</td>\n",
       "      <td>1/1/15</td>\n",
       "      <td>0:20</td>\n",
       "      <td>QUEENS</td>\n",
       "      <td>11358.0</td>\n",
       "      <td>40.751847</td>\n",
       "      <td>-73.787862</td>\n",
       "      <td>(40.7518471, -73.787862)</td>\n",
       "      <td>47 AVENUE</td>\n",
       "      <td>193 STREET</td>\n",
       "      <td>...</td>\n",
       "      <td>SPORT UTILITY/STATION WAGON</td>\n",
       "      <td>NaN</td>\n",
       "      <td>NaN</td>\n",
       "      <td>NaN</td>\n",
       "      <td>NaN</td>\n",
       "      <td>TRAFFIC CONTROL DISREGARDED</td>\n",
       "      <td>NaN</td>\n",
       "      <td>NaN</td>\n",
       "      <td>NaN</td>\n",
       "      <td>NaN</td>\n",
       "    </tr>\n",
       "    <tr>\n",
       "      <th>1</th>\n",
       "      <td>3146180</td>\n",
       "      <td>1/1/15</td>\n",
       "      <td>0:20</td>\n",
       "      <td>NaN</td>\n",
       "      <td>NaN</td>\n",
       "      <td>40.771289</td>\n",
       "      <td>-73.946693</td>\n",
       "      <td>(40.7712888, -73.9466928)</td>\n",
       "      <td>NaN</td>\n",
       "      <td>NaN</td>\n",
       "      <td>...</td>\n",
       "      <td>PASSENGER VEHICLE</td>\n",
       "      <td>NaN</td>\n",
       "      <td>NaN</td>\n",
       "      <td>NaN</td>\n",
       "      <td>NaN</td>\n",
       "      <td>ANIMALS ACTION</td>\n",
       "      <td>NaN</td>\n",
       "      <td>NaN</td>\n",
       "      <td>NaN</td>\n",
       "      <td>NaN</td>\n",
       "    </tr>\n",
       "    <tr>\n",
       "      <th>2</th>\n",
       "      <td>3146384</td>\n",
       "      <td>1/1/15</td>\n",
       "      <td>0:21</td>\n",
       "      <td>BROOKLYN</td>\n",
       "      <td>11205.0</td>\n",
       "      <td>40.689445</td>\n",
       "      <td>-73.955121</td>\n",
       "      <td>(40.6894449, -73.9551212)</td>\n",
       "      <td>BEDFORD AVENUE</td>\n",
       "      <td>LAFAYETTE AVENUE</td>\n",
       "      <td>...</td>\n",
       "      <td>PASSENGER VEHICLE</td>\n",
       "      <td>UNKNOWN</td>\n",
       "      <td>NaN</td>\n",
       "      <td>NaN</td>\n",
       "      <td>NaN</td>\n",
       "      <td>FATIGUED/DROWSY</td>\n",
       "      <td>UNSPECIFIED</td>\n",
       "      <td>NaN</td>\n",
       "      <td>NaN</td>\n",
       "      <td>NaN</td>\n",
       "    </tr>\n",
       "    <tr>\n",
       "      <th>3</th>\n",
       "      <td>3146013</td>\n",
       "      <td>1/1/15</td>\n",
       "      <td>0:30</td>\n",
       "      <td>BROOKLYN</td>\n",
       "      <td>11213.0</td>\n",
       "      <td>40.673845</td>\n",
       "      <td>-73.925080</td>\n",
       "      <td>(40.6738445, -73.9250801)</td>\n",
       "      <td>BUFFALO AVENUE</td>\n",
       "      <td>SAINT MARKS AVENUE</td>\n",
       "      <td>...</td>\n",
       "      <td>BUS</td>\n",
       "      <td>PASSENGER VEHICLE</td>\n",
       "      <td>NaN</td>\n",
       "      <td>NaN</td>\n",
       "      <td>NaN</td>\n",
       "      <td>LOST CONSCIOUSNESS</td>\n",
       "      <td>NaN</td>\n",
       "      <td>NaN</td>\n",
       "      <td>NaN</td>\n",
       "      <td>NaN</td>\n",
       "    </tr>\n",
       "    <tr>\n",
       "      <th>4</th>\n",
       "      <td>3146120</td>\n",
       "      <td>1/1/15</td>\n",
       "      <td>0:33</td>\n",
       "      <td>NaN</td>\n",
       "      <td>NaN</td>\n",
       "      <td>NaN</td>\n",
       "      <td>NaN</td>\n",
       "      <td>NaN</td>\n",
       "      <td>RICHMOND TERRACE</td>\n",
       "      <td>SOUTH AVENUE</td>\n",
       "      <td>...</td>\n",
       "      <td>UNKNOWN</td>\n",
       "      <td>PASSENGER VEHICLE</td>\n",
       "      <td>NaN</td>\n",
       "      <td>NaN</td>\n",
       "      <td>NaN</td>\n",
       "      <td>UNSPECIFIED</td>\n",
       "      <td>UNSPECIFIED</td>\n",
       "      <td>NaN</td>\n",
       "      <td>NaN</td>\n",
       "      <td>NaN</td>\n",
       "    </tr>\n",
       "  </tbody>\n",
       "</table>\n",
       "<p>5 rows × 29 columns</p>\n",
       "</div>"
      ],
      "text/plain": [
       "   UNIQUE KEY    DATE  TIME   BOROUGH  ZIP CODE   LATITUDE  LONGITUDE  \\\n",
       "0     3146911  1/1/15  0:20    QUEENS   11358.0  40.751847 -73.787862   \n",
       "1     3146180  1/1/15  0:20       NaN       NaN  40.771289 -73.946693   \n",
       "2     3146384  1/1/15  0:21  BROOKLYN   11205.0  40.689445 -73.955121   \n",
       "3     3146013  1/1/15  0:30  BROOKLYN   11213.0  40.673845 -73.925080   \n",
       "4     3146120  1/1/15  0:33       NaN       NaN        NaN        NaN   \n",
       "\n",
       "                    LOCATION    ON STREET NAME   CROSS STREET NAME  \\\n",
       "0   (40.7518471, -73.787862)         47 AVENUE          193 STREET   \n",
       "1  (40.7712888, -73.9466928)               NaN                 NaN   \n",
       "2  (40.6894449, -73.9551212)    BEDFORD AVENUE    LAFAYETTE AVENUE   \n",
       "3  (40.6738445, -73.9250801)    BUFFALO AVENUE  SAINT MARKS AVENUE   \n",
       "4                        NaN  RICHMOND TERRACE        SOUTH AVENUE   \n",
       "\n",
       "        ...                      VEHICLE 1 TYPE     VEHICLE 2 TYPE  \\\n",
       "0       ...         SPORT UTILITY/STATION WAGON                NaN   \n",
       "1       ...                   PASSENGER VEHICLE                NaN   \n",
       "2       ...                   PASSENGER VEHICLE            UNKNOWN   \n",
       "3       ...                                 BUS  PASSENGER VEHICLE   \n",
       "4       ...                             UNKNOWN  PASSENGER VEHICLE   \n",
       "\n",
       "   VEHICLE 3 TYPE  VEHICLE 4 TYPE  VEHICLE 5 TYPE  \\\n",
       "0             NaN             NaN             NaN   \n",
       "1             NaN             NaN             NaN   \n",
       "2             NaN             NaN             NaN   \n",
       "3             NaN             NaN             NaN   \n",
       "4             NaN             NaN             NaN   \n",
       "\n",
       "              VEHICLE 1 FACTOR  VEHICLE 2 FACTOR  VEHICLE 3 FACTOR  \\\n",
       "0  TRAFFIC CONTROL DISREGARDED               NaN               NaN   \n",
       "1               ANIMALS ACTION               NaN               NaN   \n",
       "2              FATIGUED/DROWSY       UNSPECIFIED               NaN   \n",
       "3           LOST CONSCIOUSNESS               NaN               NaN   \n",
       "4                  UNSPECIFIED       UNSPECIFIED               NaN   \n",
       "\n",
       "   VEHICLE 4 FACTOR VEHICLE 5 FACTOR  \n",
       "0               NaN              NaN  \n",
       "1               NaN              NaN  \n",
       "2               NaN              NaN  \n",
       "3               NaN              NaN  \n",
       "4               NaN              NaN  \n",
       "\n",
       "[5 rows x 29 columns]"
      ]
     },
     "execution_count": 395,
     "metadata": {},
     "output_type": "execute_result"
    }
   ],
   "source": [
    "data_raw.head()"
   ]
  },
  {
   "cell_type": "code",
   "execution_count": 396,
   "metadata": {
    "collapsed": false
   },
   "outputs": [],
   "source": [
    "df1=data_raw.loc[:,['DATE','BOROUGH']]"
   ]
  },
  {
   "cell_type": "code",
   "execution_count": 397,
   "metadata": {
    "collapsed": false
   },
   "outputs": [],
   "source": [
    "df1.loc[df1.index,'YEAR']=df1.loc[df1.index,'DATE'].apply(lambda x: datetime.strptime(x,'%m/%d/%y').date().strftime('%y'))\n",
    "df1['MONTH']=df1['DATE'].apply(lambda x: datetime.strptime(x,'%m/%d/%y').date().strftime('%b'))"
   ]
  },
  {
   "cell_type": "code",
   "execution_count": 398,
   "metadata": {
    "collapsed": true
   },
   "outputs": [],
   "source": [
    "df0=df1.loc[df1['BOROUGH'] == 'MANHATTAN']"
   ]
  },
  {
   "cell_type": "code",
   "execution_count": 399,
   "metadata": {
    "collapsed": false
   },
   "outputs": [],
   "source": [
    "group = df1['BOROUGH'].groupby([df1['YEAR']=='16',df1['MONTH']])\n",
    "group1 = df0['BOROUGH'].groupby([df0['YEAR']=='16',df0['MONTH']])"
   ]
  },
  {
   "cell_type": "code",
   "execution_count": 400,
   "metadata": {
    "collapsed": false
   },
   "outputs": [],
   "source": [
    "series=group.size()[True]\n",
    "series1=group1.size()[True]"
   ]
  },
  {
   "cell_type": "code",
   "execution_count": 401,
   "metadata": {
    "collapsed": false
   },
   "outputs": [],
   "source": [
    "del series1.index.name\n",
    "df2=DataFrame(series1,columns=['MANHATTAN'])\n",
    "df2.columns.name='MONTH'"
   ]
  },
  {
   "cell_type": "code",
   "execution_count": 402,
   "metadata": {
    "collapsed": false
   },
   "outputs": [],
   "source": [
    "del series.index.name\n",
    "df3=DataFrame(series,columns=['NYC'])\n",
    "df3.columns.name='MONTH'"
   ]
  },
  {
   "cell_type": "code",
   "execution_count": 403,
   "metadata": {
    "collapsed": false
   },
   "outputs": [],
   "source": [
    "result=pd.concat([df2,df3],axis=1)"
   ]
  },
  {
   "cell_type": "code",
   "execution_count": 404,
   "metadata": {
    "collapsed": false
   },
   "outputs": [],
   "source": [
    "frame=result.reindex(index=['Jan','Feb','Mar','Apr','May','Jun','Jul','Aug','Sep','Oct','Nov','Dec'])"
   ]
  },
  {
   "cell_type": "code",
   "execution_count": 405,
   "metadata": {
    "collapsed": true
   },
   "outputs": [],
   "source": [
    "frame['PERCENTAGE']=frame['MANHATTAN']/frame['NYC']"
   ]
  },
  {
   "cell_type": "code",
   "execution_count": 406,
   "metadata": {
    "collapsed": false
   },
   "outputs": [
    {
     "data": {
      "text/html": [
       "<div>\n",
       "<table border=\"1\" class=\"dataframe\">\n",
       "  <thead>\n",
       "    <tr style=\"text-align: right;\">\n",
       "      <th>MONTH</th>\n",
       "      <th>MANHATTAN</th>\n",
       "      <th>NYC</th>\n",
       "      <th>PERCENTAGE</th>\n",
       "    </tr>\n",
       "  </thead>\n",
       "  <tbody>\n",
       "    <tr>\n",
       "      <th>Jan</th>\n",
       "      <td>3178</td>\n",
       "      <td>18101</td>\n",
       "      <td>0.175570</td>\n",
       "    </tr>\n",
       "    <tr>\n",
       "      <th>Feb</th>\n",
       "      <td>3195</td>\n",
       "      <td>15985</td>\n",
       "      <td>0.199875</td>\n",
       "    </tr>\n",
       "    <tr>\n",
       "      <th>Mar</th>\n",
       "      <td>3479</td>\n",
       "      <td>18471</td>\n",
       "      <td>0.188349</td>\n",
       "    </tr>\n",
       "    <tr>\n",
       "      <th>Apr</th>\n",
       "      <td>3540</td>\n",
       "      <td>18331</td>\n",
       "      <td>0.193115</td>\n",
       "    </tr>\n",
       "    <tr>\n",
       "      <th>May</th>\n",
       "      <td>3432</td>\n",
       "      <td>20052</td>\n",
       "      <td>0.171155</td>\n",
       "    </tr>\n",
       "    <tr>\n",
       "      <th>Jun</th>\n",
       "      <td>2956</td>\n",
       "      <td>19433</td>\n",
       "      <td>0.152112</td>\n",
       "    </tr>\n",
       "    <tr>\n",
       "      <th>Jul</th>\n",
       "      <td>3055</td>\n",
       "      <td>19867</td>\n",
       "      <td>0.153773</td>\n",
       "    </tr>\n",
       "    <tr>\n",
       "      <th>Aug</th>\n",
       "      <td>2844</td>\n",
       "      <td>19678</td>\n",
       "      <td>0.144527</td>\n",
       "    </tr>\n",
       "    <tr>\n",
       "      <th>Sep</th>\n",
       "      <td>2744</td>\n",
       "      <td>19492</td>\n",
       "      <td>0.140776</td>\n",
       "    </tr>\n",
       "    <tr>\n",
       "      <th>Oct</th>\n",
       "      <td>2831</td>\n",
       "      <td>19666</td>\n",
       "      <td>0.143954</td>\n",
       "    </tr>\n",
       "    <tr>\n",
       "      <th>Nov</th>\n",
       "      <td>2838</td>\n",
       "      <td>19315</td>\n",
       "      <td>0.146932</td>\n",
       "    </tr>\n",
       "    <tr>\n",
       "      <th>Dec</th>\n",
       "      <td>2634</td>\n",
       "      <td>19214</td>\n",
       "      <td>0.137088</td>\n",
       "    </tr>\n",
       "  </tbody>\n",
       "</table>\n",
       "</div>"
      ],
      "text/plain": [
       "MONTH  MANHATTAN    NYC  PERCENTAGE\n",
       "Jan         3178  18101    0.175570\n",
       "Feb         3195  15985    0.199875\n",
       "Mar         3479  18471    0.188349\n",
       "Apr         3540  18331    0.193115\n",
       "May         3432  20052    0.171155\n",
       "Jun         2956  19433    0.152112\n",
       "Jul         3055  19867    0.153773\n",
       "Aug         2844  19678    0.144527\n",
       "Sep         2744  19492    0.140776\n",
       "Oct         2831  19666    0.143954\n",
       "Nov         2838  19315    0.146932\n",
       "Dec         2634  19214    0.137088"
      ]
     },
     "execution_count": 406,
     "metadata": {},
     "output_type": "execute_result"
    }
   ],
   "source": [
    "frame"
   ]
  },
  {
   "cell_type": "code",
   "execution_count": 407,
   "metadata": {
    "collapsed": false
   },
   "outputs": [],
   "source": [
    "frame.to_csv('Q1_p1.csv', index_label='MONTH')"
   ]
  },
  {
   "cell_type": "code",
   "execution_count": null,
   "metadata": {
    "collapsed": true
   },
   "outputs": [],
   "source": []
  }
 ],
 "metadata": {
  "kernelspec": {
   "display_name": "Python 3",
   "language": "python",
   "name": "python3"
  },
  "language_info": {
   "codemirror_mode": {
    "name": "ipython",
    "version": 3
   },
   "file_extension": ".py",
   "mimetype": "text/x-python",
   "name": "python",
   "nbconvert_exporter": "python",
   "pygments_lexer": "ipython3",
   "version": "3.6.0"
  }
 },
 "nbformat": 4,
 "nbformat_minor": 2
}
