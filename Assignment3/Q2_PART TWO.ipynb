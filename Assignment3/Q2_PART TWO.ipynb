{
 "cells": [
  {
   "cell_type": "markdown",
   "metadata": {
    "collapsed": true
   },
   "source": [
    "# Q2_PART TWO\n",
    "EMPLOYEE COMPENSATION ANALYSIS"
   ]
  },
  {
   "cell_type": "markdown",
   "metadata": {},
   "source": [
    "Use 'employee_compensation' data set.\n",
    "• Data contains fiscal and calendar year information. Same employee details exist twice in the dataset. Filter data by calendar year and find average salary (you might have to find average for each of the columns for every employee. Eg. Average of Total Benefits, Average of total compensation etc.) for every employee.\n",
    "• Now, find the people whose overtime salary is greater than 5% of salaries (salaries refers to ’Salaries' column)\n",
    "• For each ‘Job Family’ these people are associated with, calculate the percentage of total benefits with respect to total compensation (so for each job family you have to calculate average total benefits and average total compensation). Create a new column to hold the percentage value.\n",
    "• Display the top 5 Job Families according to this percentage value using df.head().\n",
    "• Write the output (jobs and percentage value) to a csv."
   ]
  },
  {
   "cell_type": "code",
   "execution_count": 1,
   "metadata": {
    "collapsed": true
   },
   "outputs": [],
   "source": [
    "import pandas as pd\n",
    "from pandas import Series, DataFrame\n",
    "import numpy as np"
   ]
  },
  {
   "cell_type": "code",
   "execution_count": 2,
   "metadata": {
    "collapsed": true
   },
   "outputs": [],
   "source": [
    "path_local='Data/employee_compensation.csv'\n",
    "data_raw = pd.read_csv(path_local)"
   ]
  },
  {
   "cell_type": "code",
   "execution_count": 4,
   "metadata": {
    "collapsed": false
   },
   "outputs": [],
   "source": [
    "df1=data_raw.loc[:,['Job Family','Employee Identifier','Salaries','Overtime','Total Benefits','Total Compensation']]"
   ]
  },
  {
   "cell_type": "code",
   "execution_count": 5,
   "metadata": {
    "collapsed": false
   },
   "outputs": [
    {
     "data": {
      "text/html": [
       "<div>\n",
       "<table border=\"1\" class=\"dataframe\">\n",
       "  <thead>\n",
       "    <tr style=\"text-align: right;\">\n",
       "      <th></th>\n",
       "      <th>Job Family</th>\n",
       "      <th>Employee Identifier</th>\n",
       "      <th>Salaries</th>\n",
       "      <th>Overtime</th>\n",
       "      <th>Total Benefits</th>\n",
       "      <th>Total Compensation</th>\n",
       "    </tr>\n",
       "  </thead>\n",
       "  <tbody>\n",
       "    <tr>\n",
       "      <th>0</th>\n",
       "      <td>Journeyman Trade</td>\n",
       "      <td>52206</td>\n",
       "      <td>98528.52</td>\n",
       "      <td>0.00</td>\n",
       "      <td>41432.55</td>\n",
       "      <td>143916.66</td>\n",
       "    </tr>\n",
       "    <tr>\n",
       "      <th>1</th>\n",
       "      <td>Dietary &amp; Food</td>\n",
       "      <td>52950</td>\n",
       "      <td>69169.82</td>\n",
       "      <td>755.02</td>\n",
       "      <td>33810.24</td>\n",
       "      <td>107914.16</td>\n",
       "    </tr>\n",
       "    <tr>\n",
       "      <th>2</th>\n",
       "      <td>Management</td>\n",
       "      <td>33958</td>\n",
       "      <td>200.00</td>\n",
       "      <td>0.00</td>\n",
       "      <td>67.28</td>\n",
       "      <td>267.28</td>\n",
       "    </tr>\n",
       "    <tr>\n",
       "      <th>3</th>\n",
       "      <td>Legal &amp; Court</td>\n",
       "      <td>33073</td>\n",
       "      <td>1783.00</td>\n",
       "      <td>0.00</td>\n",
       "      <td>736.13</td>\n",
       "      <td>2519.13</td>\n",
       "    </tr>\n",
       "    <tr>\n",
       "      <th>4</th>\n",
       "      <td>Public Service Aide</td>\n",
       "      <td>15849</td>\n",
       "      <td>1102.50</td>\n",
       "      <td>0.00</td>\n",
       "      <td>624.18</td>\n",
       "      <td>1726.68</td>\n",
       "    </tr>\n",
       "  </tbody>\n",
       "</table>\n",
       "</div>"
      ],
      "text/plain": [
       "            Job Family  Employee Identifier  Salaries  Overtime  \\\n",
       "0     Journeyman Trade                52206  98528.52      0.00   \n",
       "1       Dietary & Food                52950  69169.82    755.02   \n",
       "2           Management                33958    200.00      0.00   \n",
       "3        Legal & Court                33073   1783.00      0.00   \n",
       "4  Public Service Aide                15849   1102.50      0.00   \n",
       "\n",
       "   Total Benefits  Total Compensation  \n",
       "0        41432.55           143916.66  \n",
       "1        33810.24           107914.16  \n",
       "2           67.28              267.28  \n",
       "3          736.13             2519.13  \n",
       "4          624.18             1726.68  "
      ]
     },
     "execution_count": 5,
     "metadata": {},
     "output_type": "execute_result"
    }
   ],
   "source": [
    "df1.head()"
   ]
  },
  {
   "cell_type": "code",
   "execution_count": 41,
   "metadata": {
    "collapsed": false
   },
   "outputs": [],
   "source": [
    "frame1 = DataFrame(df1['Salaries'].groupby([df1['Employee Identifier']]).mean(),columns=['Salaries'])\n",
    "frame2 = DataFrame(df1['Overtime'].groupby([df1['Employee Identifier']]).mean(),columns=['Overtime'])"
   ]
  },
  {
   "cell_type": "code",
   "execution_count": 50,
   "metadata": {
    "collapsed": true
   },
   "outputs": [],
   "source": [
    "frame_overtime=pd.concat([frame1,frame2],axis=1)\n",
    "frame_overtime['Percent'] = frame_overtime['Overtime']/frame_overtime['Salaries']"
   ]
  },
  {
   "cell_type": "code",
   "execution_count": 57,
   "metadata": {
    "collapsed": true
   },
   "outputs": [],
   "source": [
    "frame_overtime['Employee'] = frame_overtime.index"
   ]
  },
  {
   "cell_type": "code",
   "execution_count": 58,
   "metadata": {
    "collapsed": false
   },
   "outputs": [
    {
     "data": {
      "text/html": [
       "<div>\n",
       "<table border=\"1\" class=\"dataframe\">\n",
       "  <thead>\n",
       "    <tr style=\"text-align: right;\">\n",
       "      <th></th>\n",
       "      <th>Salaries</th>\n",
       "      <th>Overtime</th>\n",
       "      <th>Percent</th>\n",
       "      <th>Employee</th>\n",
       "    </tr>\n",
       "    <tr>\n",
       "      <th>Employee Identifier</th>\n",
       "      <th></th>\n",
       "      <th></th>\n",
       "      <th></th>\n",
       "      <th></th>\n",
       "    </tr>\n",
       "  </thead>\n",
       "  <tbody>\n",
       "    <tr>\n",
       "      <th>1</th>\n",
       "      <td>44347.805</td>\n",
       "      <td>0.000</td>\n",
       "      <td>0.000000</td>\n",
       "      <td>1</td>\n",
       "    </tr>\n",
       "    <tr>\n",
       "      <th>2</th>\n",
       "      <td>11061.700</td>\n",
       "      <td>0.000</td>\n",
       "      <td>0.000000</td>\n",
       "      <td>2</td>\n",
       "    </tr>\n",
       "    <tr>\n",
       "      <th>3</th>\n",
       "      <td>26670.595</td>\n",
       "      <td>1543.365</td>\n",
       "      <td>0.057868</td>\n",
       "      <td>3</td>\n",
       "    </tr>\n",
       "    <tr>\n",
       "      <th>4</th>\n",
       "      <td>18574.880</td>\n",
       "      <td>0.000</td>\n",
       "      <td>0.000000</td>\n",
       "      <td>4</td>\n",
       "    </tr>\n",
       "    <tr>\n",
       "      <th>5</th>\n",
       "      <td>19389.715</td>\n",
       "      <td>0.000</td>\n",
       "      <td>0.000000</td>\n",
       "      <td>5</td>\n",
       "    </tr>\n",
       "  </tbody>\n",
       "</table>\n",
       "</div>"
      ],
      "text/plain": [
       "                      Salaries  Overtime   Percent  Employee\n",
       "Employee Identifier                                         \n",
       "1                    44347.805     0.000  0.000000         1\n",
       "2                    11061.700     0.000  0.000000         2\n",
       "3                    26670.595  1543.365  0.057868         3\n",
       "4                    18574.880     0.000  0.000000         4\n",
       "5                    19389.715     0.000  0.000000         5"
      ]
     },
     "execution_count": 58,
     "metadata": {},
     "output_type": "execute_result"
    }
   ],
   "source": [
    "frame_overtime.head()"
   ]
  },
  {
   "cell_type": "code",
   "execution_count": 61,
   "metadata": {
    "collapsed": false
   },
   "outputs": [],
   "source": [
    "group = frame_overtime['Employee'].groupby([frame_overtime['Percent']>0.05])"
   ]
  },
  {
   "cell_type": "code",
   "execution_count": 79,
   "metadata": {
    "collapsed": false
   },
   "outputs": [
    {
     "name": "stdout",
     "output_type": "stream",
     "text": [
      "There are  13524  employees overtime salaries is over 5% of salaries\n"
     ]
    }
   ],
   "source": [
    "print('There are ',group.size()[True], ' employees overtime salaries is over 5% of salaries')"
   ]
  },
  {
   "cell_type": "code",
   "execution_count": 80,
   "metadata": {
    "collapsed": false
   },
   "outputs": [],
   "source": [
    "frame3 = DataFrame(df1['Total Benefits'].groupby([df1['Job Family']]).mean(),columns=['Total Benefits'])\n",
    "frame4 = DataFrame(df1['Total Compensation'].groupby([df1['Job Family']]).mean(),columns=['Total Compensation'])"
   ]
  },
  {
   "cell_type": "code",
   "execution_count": 83,
   "metadata": {
    "collapsed": true
   },
   "outputs": [],
   "source": [
    "frame_jobfamily=pd.concat([frame3,frame4],axis=1)\n",
    "frame_jobfamily['Percent_Total_Benefit']=frame3['Total Benefits']/frame4['Total Compensation']"
   ]
  },
  {
   "cell_type": "code",
   "execution_count": 84,
   "metadata": {
    "collapsed": false
   },
   "outputs": [
    {
     "data": {
      "text/html": [
       "<div>\n",
       "<table border=\"1\" class=\"dataframe\">\n",
       "  <thead>\n",
       "    <tr style=\"text-align: right;\">\n",
       "      <th></th>\n",
       "      <th>Total Benefits</th>\n",
       "      <th>Total Compensation</th>\n",
       "      <th>Percent_Total_Benefit</th>\n",
       "    </tr>\n",
       "    <tr>\n",
       "      <th>Job Family</th>\n",
       "      <th></th>\n",
       "      <th></th>\n",
       "      <th></th>\n",
       "    </tr>\n",
       "  </thead>\n",
       "  <tbody>\n",
       "    <tr>\n",
       "      <th>Administrative &amp; Mgmt (Unrep)</th>\n",
       "      <td>58804.222241</td>\n",
       "      <td>248536.124310</td>\n",
       "      <td>0.236602</td>\n",
       "    </tr>\n",
       "    <tr>\n",
       "      <th>Administrative Secretarial</th>\n",
       "      <td>28918.649873</td>\n",
       "      <td>101995.198101</td>\n",
       "      <td>0.283530</td>\n",
       "    </tr>\n",
       "    <tr>\n",
       "      <th>Administrative-DPW/PUC</th>\n",
       "      <td>41349.404069</td>\n",
       "      <td>156364.681576</td>\n",
       "      <td>0.264442</td>\n",
       "    </tr>\n",
       "    <tr>\n",
       "      <th>Administrative-Labor &amp; Trades</th>\n",
       "      <td>39922.411887</td>\n",
       "      <td>160870.450896</td>\n",
       "      <td>0.248165</td>\n",
       "    </tr>\n",
       "    <tr>\n",
       "      <th>Agriculture &amp; Horticulture</th>\n",
       "      <td>25407.737041</td>\n",
       "      <td>81391.643272</td>\n",
       "      <td>0.312166</td>\n",
       "    </tr>\n",
       "  </tbody>\n",
       "</table>\n",
       "</div>"
      ],
      "text/plain": [
       "                               Total Benefits  Total Compensation  \\\n",
       "Job Family                                                          \n",
       "Administrative & Mgmt (Unrep)    58804.222241       248536.124310   \n",
       "Administrative Secretarial       28918.649873       101995.198101   \n",
       "Administrative-DPW/PUC           41349.404069       156364.681576   \n",
       "Administrative-Labor & Trades    39922.411887       160870.450896   \n",
       "Agriculture & Horticulture       25407.737041        81391.643272   \n",
       "\n",
       "                               Percent_Total_Benefit  \n",
       "Job Family                                            \n",
       "Administrative & Mgmt (Unrep)               0.236602  \n",
       "Administrative Secretarial                  0.283530  \n",
       "Administrative-DPW/PUC                      0.264442  \n",
       "Administrative-Labor & Trades               0.248165  \n",
       "Agriculture & Horticulture                  0.312166  "
      ]
     },
     "execution_count": 84,
     "metadata": {},
     "output_type": "execute_result"
    }
   ],
   "source": [
    "frame_jobfamily.head()"
   ]
  },
  {
   "cell_type": "code",
   "execution_count": 88,
   "metadata": {
    "collapsed": true
   },
   "outputs": [],
   "source": [
    "frame_jobfamily.to_csv('Q2_p2.csv')"
   ]
  },
  {
   "cell_type": "code",
   "execution_count": null,
   "metadata": {
    "collapsed": true
   },
   "outputs": [],
   "source": []
  }
 ],
 "metadata": {
  "kernelspec": {
   "display_name": "Python 3",
   "language": "python",
   "name": "python3"
  },
  "language_info": {
   "codemirror_mode": {
    "name": "ipython",
    "version": 3
   },
   "file_extension": ".py",
   "mimetype": "text/x-python",
   "name": "python",
   "nbconvert_exporter": "python",
   "pygments_lexer": "ipython3",
   "version": "3.6.0"
  }
 },
 "nbformat": 4,
 "nbformat_minor": 2
}
