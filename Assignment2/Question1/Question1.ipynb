{
 "cells": [
  {
   "cell_type": "markdown",
   "metadata": {
    "collapsed": true
   },
   "source": [
    "Question1\n",
    "\n",
    "Zipf’slaw: r * freq = A * N\n",
    "-Learn and understand Zipf’s Law.\n",
    "-Pick any file (or files) in NLTK package.\n",
    "-Prove if Zipf’s Law works in Natural Language or not."
   ]
  },
  {
   "cell_type": "code",
   "execution_count": 329,
   "metadata": {
    "collapsed": true
   },
   "outputs": [],
   "source": [
    "import nltk\n",
    "import string\n",
    "import csv\n",
    "import matplotlib.pyplot as plt\n",
    "import numpy as np\n",
    "import glob\n",
    "import math\n",
    "articles = nltk.corpus.gutenberg.fileids()"
   ]
  },
  {
   "cell_type": "code",
   "execution_count": 252,
   "metadata": {
    "collapsed": false
   },
   "outputs": [],
   "source": [
    "#get all the words from gutenberg files\n",
    "words_all = []\n",
    "for article in articles:\n",
    "    words_all.extend(nltk.corpus.gutenberg.words(article))"
   ]
  },
  {
   "cell_type": "code",
   "execution_count": 253,
   "metadata": {
    "collapsed": false
   },
   "outputs": [
    {
     "name": "stdout",
     "output_type": "stream",
     "text": [
      "['[', 'Emma', 'by', 'Jane', 'Austen', '1816', ']', 'VOLUME', 'I', 'CHAPTER', 'I', 'Emma', 'Woodhouse', ',', 'handsome', ',', 'clever', ',', 'and', 'rich']\n"
     ]
    }
   ],
   "source": [
    "print(words_all[:20])"
   ]
  },
  {
   "cell_type": "code",
   "execution_count": 254,
   "metadata": {
    "collapsed": false
   },
   "outputs": [],
   "source": [
    "#functions to remove punctuation and numbers\n",
    "def remove_punctuation(words_list):\n",
    "    words_noPunc = []\n",
    "    words_punc = string.punctuation\n",
    "    for word in words_list:\n",
    "        buffer = 0\n",
    "        for subword in word:\n",
    "            if subword in words_punc:\n",
    "                buffer += 1\n",
    "        if buffer==0:\n",
    "            words_noPunc.append(word)\n",
    "    return words_noPunc\n",
    "    #words_noPunc = [word for word in words_list if word not in words_punc]\n",
    "    #return words_noPunc\n",
    "def remove_int(words_list):\n",
    "    words_noInt = [word for word in words_list if not any(x.isdigit() for x in word)]\n",
    "    return words_noInt"
   ]
  },
  {
   "cell_type": "code",
   "execution_count": 255,
   "metadata": {
    "collapsed": false
   },
   "outputs": [
    {
     "name": "stdout",
     "output_type": "stream",
     "text": [
      "['[', 'Emma', 'by', 'Jane', 'Austen', '1816', ']', 'VOLUME', 'I', 'CHAPTER', 'I', 'Emma', 'Woodhouse', ',', 'handsome', ',', 'clever', ',', 'and', 'rich', ',', 'with', 'a', 'comfortable', 'home', 'and', 'happy', 'disposition', ',', 'seemed']\n"
     ]
    }
   ],
   "source": [
    "print(words_all[:30])"
   ]
  },
  {
   "cell_type": "code",
   "execution_count": 263,
   "metadata": {
    "collapsed": false
   },
   "outputs": [],
   "source": [
    "#remove punctuation and numbers in word list\n",
    "words_new = remove_punctuation(words_all)\n",
    "words_new = remove_int(words_new)"
   ]
  },
  {
   "cell_type": "code",
   "execution_count": 264,
   "metadata": {
    "collapsed": false
   },
   "outputs": [
    {
     "name": "stdout",
     "output_type": "stream",
     "text": [
      "['Emma', 'by', 'Jane', 'Austen', 'VOLUME', 'I', 'CHAPTER', 'I', 'Emma', 'Woodhouse', 'handsome', 'clever', 'and', 'rich', 'with', 'a', 'comfortable', 'home', 'and', 'happy']\n"
     ]
    }
   ],
   "source": [
    "print(words_new[:20])"
   ]
  },
  {
   "cell_type": "code",
   "execution_count": 265,
   "metadata": {
    "collapsed": false
   },
   "outputs": [],
   "source": [
    "#store all unique words in a dictionary and sort them by frequency\n",
    "words_unique = {}\n",
    "for word in words_new:\n",
    "    word = word.lower()\n",
    "    if word in words_unique.keys():\n",
    "        words_unique[word] += 1\n",
    "    else:\n",
    "        words_unique[word] = 1\n",
    "words_unique = sorted(words_unique.items(), key = lambda x : x[1], reverse =True)"
   ]
  },
  {
   "cell_type": "code",
   "execution_count": 266,
   "metadata": {
    "collapsed": false
   },
   "outputs": [
    {
     "name": "stdout",
     "output_type": "stream",
     "text": [
      "[('the', 133583), ('and', 95442), ('of', 71267), ('to', 48057), ('a', 33960), ('in', 33580), ('i', 30265), ('that', 28798), ('he', 25857), ('it', 22303), ('his', 21402), ('for', 19527), ('was', 18715), ('with', 17599), ('not', 17373), ('is', 16435), ('you', 16398), ('be', 16115), ('as', 14528), ('but', 13944)]\n"
     ]
    }
   ],
   "source": [
    "print(words_unique[:20])"
   ]
  },
  {
   "cell_type": "code",
   "execution_count": 452,
   "metadata": {
    "collapsed": false
   },
   "outputs": [
    {
     "name": "stdout",
     "output_type": "stream",
     "text": [
      "There are 2621613 words in gutenberg corpus.\n",
      "Top 10 used words are:\n",
      "1 . the appeared 133583\n",
      "2 . and appeared 95442\n",
      "3 . of appeared 71267\n",
      "4 . to appeared 48057\n",
      "5 . a appeared 33960\n",
      "6 . in appeared 33580\n",
      "7 . i appeared 30265\n",
      "8 . that appeared 28798\n",
      "9 . he appeared 25857\n",
      "10 . it appeared 22303\n"
     ]
    }
   ],
   "source": [
    "#print result\n",
    "count_words = len(words_all)\n",
    "print('There are', count_words, 'words in gutenberg corpus.')\n",
    "print('Top 10 used words are:')\n",
    "for i in range(10):\n",
    "    #freq = 0\n",
    "    #freq = count_words/words_unique[i][1]\n",
    "    print(i+1,'.',words_unique[i][0], 'appeared', words_unique[i][1])"
   ]
  },
  {
   "cell_type": "code",
   "execution_count": 453,
   "metadata": {
    "collapsed": false
   },
   "outputs": [],
   "source": [
    "#Store sorted data in a list\n",
    "data_sorted = []\n",
    "for i in range(len(words_unique)):\n",
    "    freq = words_unique[i][1]\n",
    "    rank = i + 1\n",
    "    word = words_unique[i][0]\n",
    "    data_sorted.append([rank,word,freq])"
   ]
  },
  {
   "cell_type": "code",
   "execution_count": 454,
   "metadata": {
    "collapsed": false
   },
   "outputs": [
    {
     "name": "stdout",
     "output_type": "stream",
     "text": [
      "[[1, 'the', 133583], [2, 'and', 95442], [3, 'of', 71267], [4, 'to', 48057], [5, 'a', 33960]]\n"
     ]
    }
   ],
   "source": [
    "print(data_sorted[:5])"
   ]
  },
  {
   "cell_type": "code",
   "execution_count": 455,
   "metadata": {
    "collapsed": false
   },
   "outputs": [],
   "source": [
    "#store all sorted data in data_sorted.csv\n",
    "data = open('data_sorted.csv', 'w')\n",
    "with open('data_sorted.csv','w',newline='') as f:\n",
    "    w = csv.writer(f)\n",
    "    w.writerow(['Rank Word Frequency'])\n",
    "    w.writerow(['='*20])\n",
    "    for i in range(len(words_unique)):\n",
    "        w.writerow(data_sorted[i])\n",
    "f.close()"
   ]
  },
  {
   "cell_type": "code",
   "execution_count": 457,
   "metadata": {
    "collapsed": false
   },
   "outputs": [],
   "source": [
    "path = '/Users/lisha/Desktop/Assignment2/data_sorted.csv'   \n",
    "files = glob.glob(path)\n",
    "words_result = []\n",
    "for file in files: \n",
    "    f=open(file, 'r')\n",
    "    for line in f:\n",
    "        words_result.append(line)   \n",
    "f.close()\n",
    "words_result.remove(words_result[0])\n",
    "words_result.remove(words_result[0])\n",
    "words_plotx = []\n",
    "words_ploty = []\n",
    "buffer_str = ''\n",
    "buffer = []\n",
    "for line in words_result:\n",
    "    buffer_str = line.split(',')\n",
    "    buffer.append(buffer_str)\n",
    "for i in range(len(words_result)):\n",
    "    words_plotx.append(math.log(int(buffer[i][0])))\n",
    "    words_ploty.append(math.log(int(buffer[i][2])))"
   ]
  },
  {
   "cell_type": "code",
   "execution_count": 463,
   "metadata": {
    "collapsed": false
   },
   "outputs": [
    {
     "data": {
      "image/png": "[encoded data removed]",
      "text/plain": [
       "<matplotlib.figure.Figure at 0x13422fc18>"
      ]
     },
     "metadata": {},
     "output_type": "display_data"
    }
   ],
   "source": [
    "plt.plot(words_plotx,words_ploty)\n",
    "plt.xlabel('log(rank)')\n",
    "plt.ylabel('log(frequency)')\n",
    "plt.title('plot_log-log_freq/rank')\n",
    "plt.savefig('plot_freq_rank.jpg')\n",
    "plt.show()"
   ]
  },
  {
   "cell_type": "code",
   "execution_count": 464,
   "metadata": {
    "collapsed": false
   },
   "outputs": [
    {
     "name": "stdout",
     "output_type": "stream",
     "text": [
      "The slot of plot_freq_rank is close to -1. So Zipfs law works in gutenberg corpus.\n"
     ]
    }
   ],
   "source": [
    "print('The slot of plot_freq_rank is close to -1. So Zipfs law works in gutenberg corpus.')"
   ]
  },
  {
   "cell_type": "code",
   "execution_count": null,
   "metadata": {
    "collapsed": true
   },
   "outputs": [],
   "source": []
  }
 ],
 "metadata": {
  "kernelspec": {
   "display_name": "Python 3",
   "language": "python",
   "name": "python3"
  },
  "language_info": {
   "codemirror_mode": {
    "name": "ipython",
    "version": 3
   },
   "file_extension": ".py",
   "mimetype": "text/x-python",
   "name": "python",
   "nbconvert_exporter": "python",
   "pygments_lexer": "ipython3",
   "version": "3.6.0"
  }
 },
 "nbformat": 4,
 "nbformat_minor": 2
}
