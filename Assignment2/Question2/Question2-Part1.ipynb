{
 "cells": [
  {
   "cell_type": "markdown",
   "metadata": {},
   "source": [
    "Question2-Part1\n",
    "-Read all the json files in the folder called Data.\n",
    "-There are three categories of json files in this folder. They are identified by the key called “term” in each of the json file.\n",
    "-Create a folder structure to read all these json files and store them into these separate folders. You are expected to create a hierarchy of folder structure.\n",
    "-Example:\n",
    "-You can place all restaurants json files in a particular country (say Australia) in the same folder. How you group the json files and create a folder structure is your choice. Your task is to identify criteria by which you can group all these json files and store them.\n",
    "-(You could use these keys to create hierarchy and store json files: Country, city, categories)"
   ]
  },
  {
   "cell_type": "code",
   "execution_count": 12,
   "metadata": {
    "collapsed": true
   },
   "outputs": [],
   "source": [
    "import json\n",
    "import os\n",
    "import glob\n",
    "import shutil"
   ]
  },
  {
   "cell_type": "code",
   "execution_count": 21,
   "metadata": {
    "collapsed": false
   },
   "outputs": [
    {
     "name": "stdout",
     "output_type": "stream",
     "text": [
      "['/Users/lisha/Desktop/INFO7374_PythonIntro_Homework/Assignment2/Question2/Data/1-abercrombie-lane-sydney.json', '/Users/lisha/Desktop/INFO7374_PythonIntro_Homework/Assignment2/Question2/Data/1-chicken-rice-and-seafood-houston.json']\n"
     ]
    }
   ],
   "source": [
    "path_local = '/Users/lisha/Desktop/INFO7374_PythonIntro_Homework/Assignment2/Question2/'\n",
    "list_jsonfiles = glob.glob(path_local + 'Data/*.json')\n",
    "print(list_jsonfiles[:2])"
   ]
  },
  {
   "cell_type": "code",
   "execution_count": 22,
   "metadata": {
    "collapsed": false
   },
   "outputs": [],
   "source": [
    "data_dic = {}\n",
    "for file in list_jsonfiles:\n",
    "    with open(file) as data_file:\n",
    "        data_dic[file] = json.load(data_file)"
   ]
  },
  {
   "cell_type": "code",
   "execution_count": 23,
   "metadata": {
    "collapsed": false
   },
   "outputs": [
    {
     "name": "stdout",
     "output_type": "stream",
     "text": [
      "{'location': {'city': 'Paris', 'address2': '', 'zip_code': '75020', 'address3': '', 'address1': '15 Rue Malte Brun', 'country': 'FR', 'state': '75'}, 'categories': [{'title': 'Performing Arts', 'alias': 'theater'}], 'is_closed': False, 'term': 'attractions', 'url': 'https://www.yelp.com/biz/th%C3%A9%C3%A2tre-national-de-la-colline-paris-5?adjust_creative=92p07_JjKyriZTQxAXRiKQ&utm_campaign=yelp_api_v3&utm_medium=api_v3_business_lookup&utm_source=92p07_JjKyriZTQxAXRiKQ', 'id': 'théâtre-national-de-la-colline-paris-5', 'phone': '+33144625200', 'photos': ['https://s3-media2.fl.yelpcdn.com/bphoto/CTUyot87RK_JnAj3LYulQQ/o.jpg', 'https://s3-media2.fl.yelpcdn.com/bphoto/FM-amAz7SPY3VXIdm55rUw/o.jpg'], 'is_claimed': False, 'rating': 3.5, 'review_count': 7, 'image_url': 'https://s3-media2.fl.yelpcdn.com/bphoto/CTUyot87RK_JnAj3LYulQQ/o.jpg', 'coordinates': {'latitude': 48.86455, 'longitude': 2.39765}, 'name': 'Théâtre National de la Colline'}\n"
     ]
    }
   ],
   "source": [
    "print(data_dic[file])"
   ]
  },
  {
   "cell_type": "code",
   "execution_count": 24,
   "metadata": {
    "collapsed": true
   },
   "outputs": [],
   "source": [
    "path_root = path_local + 'Data Processed/'\n",
    "if not os.path.exists(path_root):\n",
    "    os.makedirs(path_root)"
   ]
  },
  {
   "cell_type": "code",
   "execution_count": 25,
   "metadata": {
    "collapsed": true
   },
   "outputs": [],
   "source": [
    "for key in data_dic.keys():\n",
    "    path_country = ''\n",
    "    path_city = ''\n",
    "    path_term = ''\n",
    "    path_country = path_root + data_dic[key]['location']['country'] + '/'\n",
    "    path_city = path_country + data_dic[key]['location']['city'] + '/'\n",
    "    path_term = path_city + data_dic[key]['term'] + '/'\n",
    "    if not os.path.exists(path_country):\n",
    "        os.makedirs(path_country)\n",
    "    if not os.path.exists(path_city):\n",
    "        os.makedirs(path_city)\n",
    "    if not os.path.exists(path_term):\n",
    "        os.makedirs(path_term)        "
   ]
  },
  {
   "cell_type": "code",
   "execution_count": 26,
   "metadata": {
    "collapsed": false
   },
   "outputs": [],
   "source": [
    "for key in data_dic.keys():\n",
    "    dst = ''\n",
    "    dst = path_root + data_dic[key]['location']['country'] + '/' + data_dic[key]['location']['city'] + '/' + data_dic[key]['term']\n",
    "    shutil.copy(key, dst)"
   ]
  }
 ],
 "metadata": {
  "kernelspec": {
   "display_name": "Python 3",
   "language": "python",
   "name": "python3"
  },
  "language_info": {
   "codemirror_mode": {
    "name": "ipython",
    "version": 3
   },
   "file_extension": ".py",
   "mimetype": "text/x-python",
   "name": "python",
   "nbconvert_exporter": "python",
   "pygments_lexer": "ipython3",
   "version": "3.6.0"
  }
 },
 "nbformat": 4,
 "nbformat_minor": 2
}
