{
 "cells": [
  {
   "cell_type": "markdown",
   "metadata": {},
   "source": [
    "Question2-Part2\n",
    "-Read only the json files which contain the key called “restaurants”\n",
    "-Each (or most of the json files) contain a key called “open” which contains the details of the operation (timings) of the restaurants. For each json file, read the timings of the restaurants.\n",
    "-Data of the operation timings of the restaurants is present for each day of the week. I want you to extract each of this data and write it in an excel sheet."
   ]
  },
  {
   "cell_type": "code",
   "execution_count": 231,
   "metadata": {
    "collapsed": true
   },
   "outputs": [],
   "source": [
    "import xlsxwriter\n",
    "import json\n",
    "import glob\n",
    "import xlrd\n",
    "import csv"
   ]
  },
  {
   "cell_type": "code",
   "execution_count": 123,
   "metadata": {
    "collapsed": false
   },
   "outputs": [
    {
     "name": "stdout",
     "output_type": "stream",
     "text": [
      "['/Users/lisha/Desktop/INFO7374_PythonIntro_Homework/Assignment2/Question2/Data/1-abercrombie-lane-sydney.json', '/Users/lisha/Desktop/INFO7374_PythonIntro_Homework/Assignment2/Question2/Data/1-chicken-rice-and-seafood-houston.json']\n"
     ]
    }
   ],
   "source": [
    "path_local = '/Users/lisha/Desktop/INFO7374_PythonIntro_Homework/Assignment2/Question2/'\n",
    "list_jsonfiles = glob.glob(path_local + 'Data/*.json')\n",
    "print(list_jsonfiles[:2])"
   ]
  },
  {
   "cell_type": "code",
   "execution_count": 124,
   "metadata": {
    "collapsed": false
   },
   "outputs": [],
   "source": [
    "data_dic = {}\n",
    "for file in list_jsonfiles:\n",
    "    with open(file) as data_file:\n",
    "        data_dic[file] = json.load(data_file)"
   ]
  },
  {
   "cell_type": "code",
   "execution_count": 125,
   "metadata": {
    "collapsed": false
   },
   "outputs": [
    {
     "name": "stdout",
     "output_type": "stream",
     "text": [
      "{'price': '$$', 'rating': 3.5, 'coordinates': {'longitude': -80.8415232515553, 'latitude': 35.227895120146}, 'is_claimed': True, 'hours': [{'is_open_now': False, 'open': [{'is_overnight': False, 'end': '0000', 'start': '1100', 'day': 0}, {'is_overnight': False, 'end': '0000', 'start': '1100', 'day': 1}, {'is_overnight': True, 'end': '0200', 'start': '1100', 'day': 2}, {'is_overnight': True, 'end': '0200', 'start': '1100', 'day': 3}, {'is_overnight': True, 'end': '0200', 'start': '1100', 'day': 4}, {'is_overnight': True, 'end': '0200', 'start': '1100', 'day': 5}, {'is_overnight': False, 'end': '0000', 'start': '1100', 'day': 6}], 'hours_type': 'REGULAR'}], 'photos': ['https://s3-media1.fl.yelpcdn.com/bphoto/IjsmSX4vao-5VSkZtQOXUw/o.jpg', 'https://s3-media3.fl.yelpcdn.com/bphoto/Rc8jqWTs7CajODSv7Mb0Og/o.jpg', 'https://s3-media3.fl.yelpcdn.com/bphoto/S55GvNFII9ACX1nnIxs36A/o.jpg'], 'review_count': 61, 'id': '204-north-kitchen-and-cocktails-charlotte', 'term': 'restaurants', 'url': 'https://www.yelp.com/biz/204-north-kitchen-and-cocktails-charlotte?adjust_creative=92p07_JjKyriZTQxAXRiKQ&utm_campaign=yelp_api_v3&utm_medium=api_v3_business_lookup&utm_source=92p07_JjKyriZTQxAXRiKQ', 'categories': [{'title': 'American (Traditional)', 'alias': 'tradamerican'}, {'title': 'Cocktail Bars', 'alias': 'cocktailbars'}, {'title': 'Breakfast & Brunch', 'alias': 'breakfast_brunch'}], 'image_url': 'https://s3-media1.fl.yelpcdn.com/bphoto/IjsmSX4vao-5VSkZtQOXUw/o.jpg', 'is_closed': False, 'phone': '+17043333747', 'location': {'address3': None, 'zip_code': '28202', 'address1': '204 N Tryon', 'address2': None, 'city': 'Charlotte', 'state': 'NC', 'country': 'US'}, 'name': '204 North Kitchen & Cocktails'}\n"
     ]
    }
   ],
   "source": [
    "path_test = '/Users/lisha/Desktop/INFO7374_PythonIntro_Homework/Assignment2/Question2/Data/204-north-kitchen-and-cocktails-charlotte.json'\n",
    "print(data_dic[path_test])"
   ]
  },
  {
   "cell_type": "code",
   "execution_count": 182,
   "metadata": {
    "collapsed": false
   },
   "outputs": [],
   "source": [
    "restaurant_dic = {}\n",
    "for key in data_dic.keys(): \n",
    "    item = {}\n",
    "    item = data_dic[key]\n",
    "    if item['term']=='restaurants':        \n",
    "        hours = []\n",
    "        if 'hours' in item.keys():\n",
    "            for list_hours in item['hours'][0]['open']:\n",
    "                i=0\n",
    "                start_hour = list_hours['start'][:2]\n",
    "                start_min = list_hours['start'][-2:]\n",
    "                end_hour = list_hours['end'][:2]\n",
    "                end_min = list_hours['end'][-2:]\n",
    "                hours.append([i,start_hour,start_min,end_hour,end_min])\n",
    "                i+=1\n",
    "            restaurant_dic[item['name']] = {'city': item['location']['city'], 'country':item['location']['country'], 'hours':hours}\n",
    "        else:\n",
    "            restaurant_dic[item['name']] = {'city': item['location']['city'], 'country':item['location']['country'], 'hours':'none'}"
   ]
  },
  {
   "cell_type": "code",
   "execution_count": 229,
   "metadata": {
    "collapsed": false
   },
   "outputs": [
    {
     "name": "stdout",
     "output_type": "stream",
     "text": [
      "{'city': 'Charlotte', 'country': 'US', 'hours': [[0, '11', '00', '00', '00'], [0, '11', '00', '00', '00'], [0, '11', '00', '02', '00'], [0, '11', '00', '02', '00'], [0, '11', '00', '02', '00'], [0, '11', '00', '02', '00'], [0, '11', '00', '00', '00']]}\n"
     ]
    }
   ],
   "source": [
    "print(restaurant_dic['204 North Kitchen & Cocktails'])"
   ]
  },
  {
   "cell_type": "code",
   "execution_count": 251,
   "metadata": {
    "collapsed": false
   },
   "outputs": [],
   "source": [
    "workbook = xlsxwriter.Workbook('RestaurantHours.xlsx')\n",
    "worksheet = workbook.add_worksheet('sheet1')\n",
    "bold = workbook.add_format({'bold': 1})\n",
    "worksheet.write('A1', 'Name of restaurant', bold)\n",
    "worksheet.write('B1', 'City', bold)\n",
    "worksheet.write('C1', 'Country Code', bold)\n",
    "worksheet.write('D1', 'Day of week', bold)\n",
    "worksheet.write('E1', 'Start Time Hour', bold)\n",
    "worksheet.write('F1', 'Start Time Minute', bold)\n",
    "worksheet.write('G1', 'End time Hour', bold)\n",
    "worksheet.write('H1', 'End Time Minute', bold)\n",
    "\n",
    "i=1\n",
    "for key in restaurant_dic.keys():\n",
    "    restaurant = restaurant_dic[key]\n",
    "    if 'none' not in restaurant['hours']:\n",
    "        for j in range(len(restaurant['hours'])):\n",
    "            worksheet.write(i+j ,0, key)\n",
    "            worksheet.write(i+j, 1, restaurant['city'])\n",
    "            worksheet.write(i+j, 2, restaurant['country'])\n",
    "            worksheet.write(i+j, 3, restaurant['hours'][j][0])\n",
    "            worksheet.write(i+j, 4, restaurant['hours'][j][1])\n",
    "            worksheet.write(i+j, 5, restaurant['hours'][j][2])\n",
    "            worksheet.write(i+j, 6, restaurant['hours'][j][3])\n",
    "            worksheet.write(i+j, 7, restaurant['hours'][j][4])\n",
    "    else:\n",
    "        for j in range(len(restaurant['hours'])):\n",
    "            worksheet.write(i+j ,0, key)\n",
    "            worksheet.write(i+j, 1, restaurant['city'])\n",
    "            worksheet.write(i+j, 2, restaurant['country'])\n",
    "            worksheet.write(i+j, 3, 'none')\n",
    "            worksheet.write(i+j, 4, 'none')\n",
    "            worksheet.write(i+j, 5, 'none')\n",
    "            worksheet.write(i+j, 6, 'none')\n",
    "            worksheet.write(i+j, 7, 'none')\n",
    "    i = i+j+1\n",
    "workbook.close()"
   ]
  },
  {
   "cell_type": "code",
   "execution_count": 255,
   "metadata": {
    "collapsed": false
   },
   "outputs": [],
   "source": [
    "wb = xlrd.open_workbook(path_local + 'RestaurantHours.xlsx')\n",
    "sh = wb.sheet_by_name('sheet1')\n",
    "your_csv_file = open(path_local + 'RestaurantHours.csv','w')\n",
    "wr = csv.writer(your_csv_file, quoting=csv.QUOTE_ALL)\n",
    "for rownum in range(sh.nrows):\n",
    "    wr.writerow(sh.row_values(rownum))\n",
    "your_csv_file.close()"
   ]
  },
  {
   "cell_type": "code",
   "execution_count": null,
   "metadata": {
    "collapsed": true
   },
   "outputs": [],
   "source": []
  }
 ],
 "metadata": {
  "kernelspec": {
   "display_name": "Python 3",
   "language": "python",
   "name": "python3"
  },
  "language_info": {
   "codemirror_mode": {
    "name": "ipython",
    "version": 3
   },
   "file_extension": ".py",
   "mimetype": "text/x-python",
   "name": "python",
   "nbconvert_exporter": "python",
   "pygments_lexer": "ipython3",
   "version": "3.6.0"
  }
 },
 "nbformat": 4,
 "nbformat_minor": 2
}
